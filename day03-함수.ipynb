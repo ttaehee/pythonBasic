{
 "cells": [
  {
   "cell_type": "markdown",
   "id": "3c6b8bed",
   "metadata": {},
   "source": [
    "# 2022-08-03 Day03(python)"
   ]
  },
  {
   "cell_type": "markdown",
   "id": "0d1176f4",
   "metadata": {},
   "source": [
    "# dict comprehension"
   ]
  },
  {
   "cell_type": "code",
   "execution_count": 5,
   "id": "3315b4ab",
   "metadata": {},
   "outputs": [
    {
     "name": "stdout",
     "output_type": "stream",
     "text": [
      "홍의 점수는 70입니다.\n",
      "김의 점수는 80입니다.\n",
      "박의 점수는 90입니다.\n"
     ]
    }
   ],
   "source": [
    "score_dict = {\"홍\":70,  \"김\":80, \"박\":90}\n",
    "\n",
    "# {1,2,3} #set\n",
    "# {1:10, 2:20} #dictionary\n",
    "\n",
    "# for s in score_dict: #키추출\n",
    "#     print(s)\n",
    "\n",
    "for k,v in score_dict.items():\n",
    "    print(f\"{k}의 점수는 {v}입니다.\")"
   ]
  },
  {
   "cell_type": "markdown",
   "id": "503d4010",
   "metadata": {},
   "source": [
    "# 함수"
   ]
  },
  {
   "cell_type": "markdown",
   "id": "833d0f3e",
   "metadata": {},
   "source": [
    "- return문 : 함수종료, 함수 호출한 곳으로 돌아감    \n",
    "    - return문 표현식이 없거나, return문 자체가 없으면 => None 객체 리턴  \n",
    "\n",
    "함수로 정의된 변수에 100을 재정의하려고하면 에러  \n",
    "'int' object is not callable  \n",
    "=> 해결방법 : kernel restart  "
   ]
  },
  {
   "cell_type": "code",
   "execution_count": 9,
   "id": "bd5f9f44",
   "metadata": {},
   "outputs": [
    {
     "name": "stdout",
     "output_type": "stream",
     "text": [
      "ans = Hello 홍길동\n"
     ]
    }
   ],
   "source": [
    "def hello(name):\n",
    "    return \"Hello \" + name\n",
    "\n",
    "# ans = hello()\n",
    "# print (\"ans = \" + ans)\n",
    "\n",
    "ans = hello(\"홍길동\")\n",
    "print(\"ans = \" + ans)"
   ]
  },
  {
   "cell_type": "markdown",
   "id": "fca76e34",
   "metadata": {},
   "source": [
    "- print(함수명) : 함수가 실행되는 위치값(주소)  \n",
    "- print(함수명()) : 함수가 실행되는 주소에서 실행해라 = return 값"
   ]
  },
  {
   "cell_type": "code",
   "execution_count": 10,
   "id": "58bbc67b",
   "metadata": {},
   "outputs": [
    {
     "name": "stdout",
     "output_type": "stream",
     "text": [
      "<function hello at 0x000001350431F040>\n",
      "<function hello at 0x000001350431F040>\n"
     ]
    }
   ],
   "source": [
    "print(hello) #함수의 주소값\n",
    "aa = hello #함수의 주소값을 가진 변수 하나더 추가\n",
    "print(aa)"
   ]
  },
  {
   "cell_type": "markdown",
   "id": "53eecdcf",
   "metadata": {},
   "source": [
    "- 매개변수  \n",
    "1. 위치인수 : 개수와 순서가 같아야함  \n",
    "    - 매개변수 개수가 다를 때 에러  \n",
    "        calc_minus() missing 1 required positional argument  \n",
    "        calc_minus() takes 2 positional arguments but 3 were given  \n",
    "\n",
    "2. 기본인수 : 할당연산자(=)를 사용하여 매개변수에 기본값 설정, 값 전달 시에는 기본값을 덮어씀  \n",
    "\n",
    "    def gugudan(dan=2):   \n",
    "    매개변수가 비어있다면 2단 출력, 3 전달되면 3단 출력  \n",
    "\n",
    "3. 키워드 매개변수 : 함수호출 시 매개변수의 이름도 명시하여 값 전달, 순서 상관없음  \n",
    "\n",
    "4. 가변 매개변수 : args 앞에 * 붙임 -> 튜플형태로 전달  \n",
    "\n",
    "\n",
    "함수 정의시엔 argument, 인수(인자)  \n",
    "함수 호출시엔 paramete, 매개변수  \n",
    "둘 다 의미는 통함"
   ]
  },
  {
   "cell_type": "code",
   "execution_count": 17,
   "id": "5fe709ae",
   "metadata": {},
   "outputs": [
    {
     "data": {
      "text/plain": [
       "2"
      ]
     },
     "execution_count": 17,
     "metadata": {},
     "output_type": "execute_result"
    }
   ],
   "source": [
    "def calc_minus(n1, n2):\n",
    "    return n1-n2\n",
    "\n",
    "calc_minus(4,2)"
   ]
  },
  {
   "cell_type": "code",
   "execution_count": 37,
   "id": "adcd18ce",
   "metadata": {},
   "outputs": [
    {
     "name": "stdout",
     "output_type": "stream",
     "text": [
      "2 4 6 8 10 12 14 16 18 \n",
      "3 6 9 12 15 18 21 24 27 \n",
      "3 6 9 12 15 18 21 24 27 \n",
      "4 8 12 16 20 24 28 32 36 \n",
      "5 10 15 20 25 30 35 40 45 \n"
     ]
    }
   ],
   "source": [
    "#구구단 출력 함수\n",
    "\n",
    "def gugudan(dan1=2, dan2=0):\n",
    "    \"\"\"\n",
    "    구구단 출력함수\n",
    "    \"\"\"\n",
    "    if dan2==0:\n",
    "        dan2=dan1\n",
    "    for k in range(dan1, dan2+1):\n",
    "        for i in range(1,10):\n",
    "            print(f\"{k*i}\", end=\" \")\n",
    "        print()\n",
    "        \n",
    "gugudan() #default\n",
    "gugudan(3) #3단 출력\n",
    "#3~5단 출력\n",
    "gugudan(3,5)"
   ]
  },
  {
   "cell_type": "markdown",
   "id": "e0a1c7f0",
   "metadata": {},
   "source": [
    "```\n",
    "def gugudan():  \n",
    "    \"\"\"  \n",
    "    doc string  \n",
    "    \"\"\"  \n",
    "```\n",
    " - doc string 자리에 함수설명  \n",
    "     => gugudan?  \n",
    "     하면 내장함수처럼 함수설명 조회 가능"
   ]
  },
  {
   "cell_type": "code",
   "execution_count": 38,
   "id": "35f4ae88",
   "metadata": {},
   "outputs": [],
   "source": [
    "gugudan?"
   ]
  },
  {
   "cell_type": "code",
   "execution_count": 49,
   "id": "667f92d9",
   "metadata": {},
   "outputs": [
    {
     "name": "stdout",
     "output_type": "stream",
     "text": [
      "멤버 수는 1\n",
      "홍길동\n",
      "멤버 수는 2\n",
      "홍길동\n",
      "김길동\n",
      "멤버 수는 3\n",
      "최길동\n",
      "강길동\n",
      "박길동\n"
     ]
    }
   ],
   "source": [
    "#회원등록함수\n",
    "\n",
    "def add_member(*mems):\n",
    "    print(f\"멤버 수는 {len(mems)}\")\n",
    "    for m in mems:\n",
    "        print(m)\n",
    "\n",
    "add_member(\"홍길동\")\n",
    "add_member(\"홍길동\", \"김길동\")\n",
    "add_member(\"최길동\", \"강길동\", \"박길동\")"
   ]
  },
  {
   "cell_type": "code",
   "execution_count": 50,
   "id": "3316c4dd",
   "metadata": {},
   "outputs": [
    {
     "name": "stdout",
     "output_type": "stream",
     "text": [
      "[]\n",
      "['홍길동']\n",
      "['홍길동', '홍길동', '김길동']\n"
     ]
    }
   ],
   "source": [
    "#회원등록함수\n",
    "\n",
    "members = []\n",
    "count = 0\n",
    "def add_member(*mems):\n",
    "    global count #count는 전역변수를 쓰세요\n",
    "    print(members)\n",
    "    members.extend(mems)\n",
    "    count = count + len(mems)\n",
    "\n",
    "add_member(\"홍길동\")\n",
    "add_member(\"홍길동\", \"김길동\")\n",
    "add_member(\"최길동\", \"강길동\", \"박길동\")"
   ]
  },
  {
   "cell_type": "markdown",
   "id": "3d72cb34",
   "metadata": {},
   "source": [
    "- 파이썬은 블럭단위로 메모리관리를 함  \n",
    "    - 전역변수로 members 를 쓰더라도 함수안에서 members에 값을 할당하면 새로운 지역변수로 members가 생성됨(초기화가 안된 변수)  \n",
    "    - 전역변수인 members를 함수안에서 쓰려면 global members로 알려줘야함 or members.extend()  "
   ]
  },
  {
   "cell_type": "code",
   "execution_count": 57,
   "id": "09db0330",
   "metadata": {},
   "outputs": [
    {
     "name": "stdout",
     "output_type": "stream",
     "text": [
      "count= 1\n",
      "count= 2\n",
      "count= 3\n"
     ]
    }
   ],
   "source": [
    "#회원등록함수\n",
    "\n",
    "def add_member(*mems):\n",
    "    members = []\n",
    "    count = 0\n",
    "    members.extend(mems)\n",
    "    count = count + len(mems)\n",
    "    def print_info():\n",
    "        print(\"count=\", count)\n",
    "    return print_info\n",
    "\n",
    "p = add_member(\"홍길동\")\n",
    "p()\n",
    "p = add_member(\"홍길동\", \"김길동\")\n",
    "p()\n",
    "p = add_member(\"최길동\", \"강길동\", \"박길동\")\n",
    "p()"
   ]
  },
  {
   "cell_type": "markdown",
   "id": "903335b5",
   "metadata": {},
   "source": [
    "- 파이썬은 private처럼 접근제어자가 없음  \n",
    "    따라서 변수를 함수안에 지역변수로 숨김 -> 그럼 계속 일회성변수가 되니까  \n",
    "    -> 함수안에 함수를 만들어서 주소값을 리턴해서 계속 그 주소값을 가리키게 함  "
   ]
  },
  {
   "cell_type": "code",
   "execution_count": 62,
   "id": "f8752b9a",
   "metadata": {},
   "outputs": [
    {
     "name": "stdout",
     "output_type": "stream",
     "text": [
      "count= 6\n"
     ]
    }
   ],
   "source": [
    "#회원등록함수\n",
    "\n",
    "def add_member(*mems):\n",
    "    members = []\n",
    "    count = 0\n",
    "    \n",
    "    def add(*mems):\n",
    "        nonlocal count\n",
    "        members.extend(mems)\n",
    "        count = count + len(mems)\n",
    "    def print_info():\n",
    "        print(\"count=\", count)\n",
    "    return add, print_info\n",
    "\n",
    "a, p = add_member() #a에는 add, p에는 print_info\n",
    "a(\"홍길동\")\n",
    "a(\"홍길동\", \"김길동\")\n",
    "a(\"최길동\", \"강길동\", \"박길동\")\n",
    "p()"
   ]
  },
  {
   "cell_type": "code",
   "execution_count": 63,
   "id": "1ba5ff0a",
   "metadata": {},
   "outputs": [
    {
     "name": "stdout",
     "output_type": "stream",
     "text": [
      "(20, 30)\n"
     ]
    }
   ],
   "source": [
    "def my_plus(a, *args):\n",
    "    print(args)\n",
    "    \n",
    "my_plus(10,20,30)"
   ]
  },
  {
   "cell_type": "code",
   "execution_count": 72,
   "id": "995d4d66",
   "metadata": {},
   "outputs": [
    {
     "name": "stdout",
     "output_type": "stream",
     "text": [
      "30\n",
      "200\n"
     ]
    }
   ],
   "source": [
    "def calc_many(choice, *args):\n",
    "    if choice == \"sum\":\n",
    "        return sum(args)\n",
    "    elif choice == \"mul\":\n",
    "        tot = 1\n",
    "        for i in args:\n",
    "            tot *= i\n",
    "        return tot\n",
    "\n",
    "print(calc_many(\"sum\", 10,20))\n",
    "print(calc_many(\"mul\", 10,20))"
   ]
  },
  {
   "cell_type": "markdown",
   "id": "6ae58222",
   "metadata": {},
   "source": [
    "- 내장함수\n",
    "    __builtin__ 통해 조회가능\n",
    "\n",
    "    ex)\n",
    "    id(object) : 객체의 고유주소값 리턴\n",
    "    len(s) : s의 길이\n",
    "\n",
    "    enumerate(iterable, start=0) : 순서있는 자료형을 인덱스까지 포함하는 enumerate객체 리턴  "
   ]
  },
  {
   "cell_type": "code",
   "execution_count": 74,
   "id": "dced005b",
   "metadata": {},
   "outputs": [
    {
     "name": "stdout",
     "output_type": "stream",
     "text": [
      "0 a\n",
      "1 b\n",
      "2 c\n"
     ]
    }
   ],
   "source": [
    "#enumerate\n",
    "aa = ['a', 'b', 'c']\n",
    "for i,v in enumerate(aa):\n",
    "    print(i,v)"
   ]
  },
  {
   "cell_type": "markdown",
   "id": "b7f2741c",
   "metadata": {},
   "source": [
    "- zip(*iterable) : 동일한 개수면 묶어줌"
   ]
  },
  {
   "cell_type": "code",
   "execution_count": 76,
   "id": "cee2b65e",
   "metadata": {},
   "outputs": [
    {
     "name": "stdout",
     "output_type": "stream",
     "text": [
      "홍 70 80\n",
      "김 80 90\n",
      "이 90 70\n"
     ]
    }
   ],
   "source": [
    "#zip\n",
    "names = [\"홍\", \"김\", \"이\"]\n",
    "scores_eng = [70,80,90]\n",
    "scores_math = [80,90, 70]\n",
    "\n",
    "for n,s,m in zip(names, scores_eng, scores_math):\n",
    "    print(n,s,m)"
   ]
  },
  {
   "cell_type": "markdown",
   "id": "d9647869",
   "metadata": {},
   "source": [
    "- 람다함수  \n",
    "    이름없이 정의된 함수  \n",
    "    간단한 가공용으로 쓰임(데이터 전처리 등)  "
   ]
  },
  {
   "cell_type": "code",
   "execution_count": 5,
   "id": "6120dc34",
   "metadata": {},
   "outputs": [
    {
     "name": "stdout",
     "output_type": "stream",
     "text": [
      "10\n"
     ]
    }
   ],
   "source": [
    "result = lambda x : x*2  \n",
    "print(result(5)) "
   ]
  },
  {
   "cell_type": "markdown",
   "id": "e6fd6a65",
   "metadata": {},
   "source": [
    "- map(func, *iterable) : func의 결과를 묶어서 반환  \n"
   ]
  },
  {
   "cell_type": "code",
   "execution_count": 77,
   "id": "81d29993",
   "metadata": {},
   "outputs": [
    {
     "data": {
      "text/plain": [
       "[1, 4, 9, 16]"
      ]
     },
     "execution_count": 77,
     "metadata": {},
     "output_type": "execute_result"
    }
   ],
   "source": [
    "#map\n",
    "a = [1,2,3,4]\n",
    "\n",
    "def sq(x):\n",
    "    return x**2\n",
    "\n",
    "list(map(lambda x: x**2, a))\n",
    "list(map(sq, a)) # sq :주소만 줘도 알아서 실행 해줌"
   ]
  },
  {
   "cell_type": "code",
   "execution_count": 78,
   "id": "d856c022",
   "metadata": {},
   "outputs": [
    {
     "data": {
      "text/plain": [
       "[1, 2, 3, 4]"
      ]
     },
     "execution_count": 78,
     "metadata": {},
     "output_type": "execute_result"
    }
   ],
   "source": [
    "list(range(1,5))"
   ]
  },
  {
   "cell_type": "markdown",
   "id": "771832a9",
   "metadata": {},
   "source": [
    "- filter(func, iterable) : func함수에서 True로 리턴한 값들만 묶어서 리턴    \n",
    "    ex) func의 리턴값이 0이면 False 되어서 걸러짐, -1이라면 값이 있으니 True로 안걸러짐  \n",
    "    - False : None, 숫자형 0, 빈시퀀스(\",(),[]), 빈 맵{}  "
   ]
  },
  {
   "cell_type": "code",
   "execution_count": 79,
   "id": "80efe678",
   "metadata": {},
   "outputs": [
    {
     "data": {
      "text/plain": [
       "[2, 4, 6, 8, 10]"
      ]
     },
     "execution_count": 79,
     "metadata": {},
     "output_type": "execute_result"
    }
   ],
   "source": [
    "a = range(1,11)\n",
    "\n",
    "def is_even(x):\n",
    "    return x%2==0\n",
    "\n",
    "# list(filter( lambda x:x%2==0, a))\n",
    "list(filter( is_even, a))"
   ]
  },
  {
   "cell_type": "markdown",
   "id": "1d238bc7",
   "metadata": {},
   "source": [
    "# 지뢰찾기 게임(빨리 찾아 터트리기)"
   ]
  },
  {
   "cell_type": "markdown",
   "id": "f74dacf5",
   "metadata": {},
   "source": [
    "- 리스트멤버 섞기\n",
    "    - random.shuffle() : 기존목록 섞기\n",
    "    - random.sample() : 섞인 새 목록 반환, 원래 목록은 변경 안됨, 중복없음\n",
    "- 리스트에서 요소 랜덤 취득\n",
    "    - random.choice() : 랜덤으로 요소 하나 취득\n",
    "    - random.choices() : 요소 여러개 취득, 중복있음\n",
    "\n",
    "[0] : 0이 들어있는 리스트  \n",
    "0이 10개 들어있는 리스트 : [0]*10  "
   ]
  },
  {
   "cell_type": "code",
   "execution_count": 6,
   "id": "7f89eced",
   "metadata": {},
   "outputs": [
    {
     "data": {
      "text/plain": [
       "[0, 0, 0, 0, 0, 0, 0, 0, 0, 0]"
      ]
     },
     "execution_count": 6,
     "metadata": {},
     "output_type": "execute_result"
    }
   ],
   "source": [
    "[0]*10"
   ]
  },
  {
   "cell_type": "code",
   "execution_count": 1,
   "id": "b5431cff",
   "metadata": {},
   "outputs": [
    {
     "data": {
      "text/plain": [
       "[[0, 0, 0, 9, 0, 0, 0, 0, 0, 0],\n",
       " [0, 0, 9, 0, 9, 0, 0, 0, 0, 0],\n",
       " [0, 0, 0, 0, 0, 9, 0, 0, 0, 0],\n",
       " [1, 1, 0, 0, 0, 0, 9, 0, 0, 0],\n",
       " [9, 1, 0, 0, 0, 0, 0, 0, 0, 9],\n",
       " [1, 1, 0, 0, 0, 0, 9, 0, 0, 0],\n",
       " [0, 0, 0, 0, 0, 0, 0, 0, 0, 0],\n",
       " [0, 0, 0, 0, 0, 0, 0, 0, 0, 0],\n",
       " [0, 0, 0, 0, 0, 0, 0, 9, 0, 0],\n",
       " [0, 0, 0, 0, 0, 0, 0, 9, 0, 0]]"
      ]
     },
     "execution_count": 1,
     "metadata": {},
     "output_type": "execute_result"
    }
   ],
   "source": [
    "#필드(2차원 리스트 10*10)\n",
    "fields = list() # 저장타입? 2차원 리스트\n",
    "for i in range(10):\n",
    "    fields.append([0]*10)\n",
    "fields\n",
    "\n",
    "# 10개의 지뢰를 임의의 위치에 저장\n",
    "import random\n",
    "nums = list(range(100))\n",
    "for i in random.sample(nums, 10):\n",
    "    row = i // 10  #행 몫\n",
    "    col = i % 10  #열 나머지\n",
    "    fields[row][col] = 9  # 지뢰위치\n",
    "\n",
    "# 지뢰주변 8방위치 1증가\n",
    "if row < (len(fields)-1):\n",
    "    fields[row+1][col] += 1 #남\n",
    "if row < (len(fields)-1) and col < (len(fields)-1):\n",
    "    fields[row+1][col+1] += 1 #남동\n",
    "if col < (len(fields)-1):\n",
    "    fields[row][col+1] += 1 #동\n",
    "if row > 0 and col < (len(fields)-1):\n",
    "    fields[row-1][col+1] += 1 #북동\n",
    "if row > 0 :\n",
    "    fields[row-1][col] += 1 #북\n",
    "if row > 0 and col > 0:\n",
    "    fields[row-1][col-1] += 1 #북서\n",
    "if col > 0:\n",
    "    fields[row][col-1] += 1 #서\n",
    "if row < (len(fields)-1) and col > 0:\n",
    "    fields[row+1][col-1] += 1 #남서\n",
    "fields"
   ]
  },
  {
   "cell_type": "code",
   "execution_count": 4,
   "id": "becb552c",
   "metadata": {},
   "outputs": [
    {
     "name": "stdout",
     "output_type": "stream",
     "text": [
      "행좌표 입력(0-9) : 3\n",
      "열좌표 입력(0-9) : 2\n"
     ]
    },
    {
     "data": {
      "text/plain": [
       "[['-', '-', '-', '-', '-', '-', '-', '-', '-', '-'],\n",
       " ['-', '-', '-', '-', '-', '-', '-', '-', '-', '-'],\n",
       " ['-', '-', '-', '-', '-', '-', '-', '-', '-', '-'],\n",
       " ['-', '-', 0, '-', '-', '-', '-', '-', '-', '-'],\n",
       " ['-', '-', '-', '-', '-', '-', '-', '-', '-', '-'],\n",
       " ['-', '-', '-', '-', '-', '-', '-', '-', '-', '-'],\n",
       " ['-', '-', '-', '-', '-', '-', '-', '-', '-', '-'],\n",
       " ['-', '-', '-', '-', '-', '-', '-', '-', '-', '-'],\n",
       " ['-', '-', '-', '-', '-', '-', '-', '-', '-', '-'],\n",
       " ['-', '-', '-', '-', '-', '-', '-', '-', '-', '-']]"
      ]
     },
     "metadata": {},
     "output_type": "display_data"
    }
   ],
   "source": [
    "# 1. 오픈한 자리의 숫자를 보기위한 2차원리스트 만들기\n",
    "fields2 = []\n",
    "for i in range(10):\n",
    "    fields2.append([\"-\"]*10)\n",
    "fields2\n",
    "findMineCounter = 0  # 찾은 지뢰갯수\n",
    "\n",
    "while fineMineCounter != 10:\n",
    "\n",
    "    # 2. 오픈할 좌표 입력받기\n",
    "    row = int(input(\"행좌표 입력(0-9) : \"))\n",
    "    col = int(input(\"열좌표 입력(0-9) : \"))\n",
    "\n",
    "    # 3. fields의 오픈할 좌표값을 출력용 2차원배열에 복사\n",
    "    fields2[row][col] = fields[row][col]\n",
    "\n",
    "    # 4. 출력용 2차원배열 출력\n",
    "    display(fields2)\n",
    "\n",
    "    # 5. 만약 지뢰좌표이면 남은 지뢰수 표시\n",
    "    if fields[row][col] >= 9:\n",
    "        fineMineCounter += 1\n",
    "        print(\"** 지뢰를 찾았습니다 **\")\n",
    "        print(f\"{10-findMineCounter}개 남았습니다.)\n",
    "    # 6. 만약 모든지뢰 오픈하면 게임종료, 아니면 2번부터 다시"
   ]
  },
  {
   "cell_type": "code",
   "execution_count": 89,
   "id": "abe6187a",
   "metadata": {},
   "outputs": [
    {
     "name": "stdout",
     "output_type": "stream",
     "text": [
      "['pancakes', 'candy', 'cookies', 'brownies', 'ice cream']\n"
     ]
    }
   ],
   "source": [
    "import random\n",
    "\n",
    "li = [\"ice cream\", \"pancakes\", \"brownies\", \"cookies\", \"candy\"]\n",
    "\n",
    "random.shuffle(li)\n",
    "\n",
    "print(li)"
   ]
  },
  {
   "cell_type": "markdown",
   "id": "d69fb606",
   "metadata": {},
   "source": [
    "# Class"
   ]
  },
  {
   "cell_type": "markdown",
   "id": "341dfee5",
   "metadata": {},
   "source": [
    "- constructor\n",
    "```\n",
    "__init__(self)\n",
    "```"
   ]
  },
  {
   "cell_type": "code",
   "execution_count": 16,
   "id": "8801b5f6",
   "metadata": {},
   "outputs": [
    {
     "name": "stdout",
     "output_type": "stream",
     "text": [
      "ps5 300000\n",
      "냉장고 1000000\n"
     ]
    }
   ],
   "source": [
    "class Product:\n",
    "    def __init__(self, name, price):\n",
    "        self.name = name\n",
    "        self.price = price\n",
    "    def print_info(self):\n",
    "        print(self.name, self.price)\n",
    "        \n",
    "#객체(인스턴스)생성   \n",
    "p1 = Product('ps5', 300000)\n",
    "p1.print_info() \n",
    "\n",
    "p2 = Product('냉장고', 1000000)\n",
    "p2.print_info()"
   ]
  },
  {
   "cell_type": "markdown",
   "id": "54f9d249",
   "metadata": {},
   "source": [
    "- print_info(self)의 self에 p1의 주소값이 들어감   \n",
    "    = p1이 가리키고있는 주소에 있는 name과 price를 출력해라"
   ]
  }
 ],
 "metadata": {
  "kernelspec": {
   "display_name": "Python 3 (ipykernel)",
   "language": "python",
   "name": "python3"
  },
  "language_info": {
   "codemirror_mode": {
    "name": "ipython",
    "version": 3
   },
   "file_extension": ".py",
   "mimetype": "text/x-python",
   "name": "python",
   "nbconvert_exporter": "python",
   "pygments_lexer": "ipython3",
   "version": "3.9.12"
  }
 },
 "nbformat": 4,
 "nbformat_minor": 5
}
