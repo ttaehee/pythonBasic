{
 "cells": [
  {
   "cell_type": "code",
   "execution_count": 9,
   "id": "09db1af2",
   "metadata": {},
   "outputs": [
    {
     "name": "stdout",
     "output_type": "stream",
     "text": [
      "100000000000000000000\n"
     ]
    },
    {
     "data": {
      "text/plain": [
       "10000000000000000000000000000000000000000"
      ]
     },
     "execution_count": 9,
     "metadata": {},
     "output_type": "execute_result"
    }
   ],
   "source": [
    "a = 10000 \n",
    "b = a*10000*10000*10000*10000\n",
    "print(b)\n",
    "b*b"
   ]
  },
  {
   "cell_type": "code",
   "execution_count": 11,
   "id": "7574a3ce",
   "metadata": {},
   "outputs": [
    {
     "name": "stdout",
     "output_type": "stream",
     "text": [
      "홍길동\n"
     ]
    }
   ],
   "source": [
    "myname = '홍길동'\n",
    "print(myname)"
   ]
  },
  {
   "cell_type": "code",
   "execution_count": 18,
   "id": "12b91d9a",
   "metadata": {},
   "outputs": [
    {
     "name": "stdout",
     "output_type": "stream",
     "text": [
      "496\n",
      "11259375\n"
     ]
    }
   ],
   "source": [
    "i=100\n",
    "j=0b110\n",
    "j8 = 0o760\n",
    "j16=0xabcdef\n",
    "\n",
    "print(j8)\n",
    "print(j16)"
   ]
  },
  {
   "cell_type": "code",
   "execution_count": 25,
   "id": "a1cf6624",
   "metadata": {},
   "outputs": [
    {
     "name": "stdout",
     "output_type": "stream",
     "text": [
      "20220801 is 2022-8-1\n"
     ]
    }
   ],
   "source": [
    "today = 20220801\n",
    "year = today // 10000\n",
    "month = today // 100 % 100\n",
    "day = today % 100\n",
    "\n",
    "print(f'{today} is {year}-{month}-{day}')"
   ]
  },
  {
   "cell_type": "code",
   "execution_count": 28,
   "id": "0894a097",
   "metadata": {},
   "outputs": [
    {
     "data": {
      "text/plain": [
       "'12'"
      ]
     },
     "execution_count": 28,
     "metadata": {},
     "output_type": "execute_result"
    }
   ],
   "source": [
    "\"1\" + \"2\""
   ]
  },
  {
   "cell_type": "code",
   "execution_count": 32,
   "id": "877666e9",
   "metadata": {},
   "outputs": [
    {
     "data": {
      "text/plain": [
       "True"
      ]
     },
     "execution_count": 32,
     "metadata": {},
     "output_type": "execute_result"
    }
   ],
   "source": [
    "bool(None)\n",
    "bool(\" \")"
   ]
  },
  {
   "cell_type": "code",
   "execution_count": 34,
   "id": "4ffc6c2d",
   "metadata": {},
   "outputs": [
    {
     "data": {
      "text/plain": [
       "'홍'"
      ]
     },
     "execution_count": 34,
     "metadata": {},
     "output_type": "execute_result"
    }
   ],
   "source": [
    "#공식적으로는 '' 관습적으로는 \"\"\n",
    "s1 = \"홍\"\n",
    "s1"
   ]
  },
  {
   "cell_type": "code",
   "execution_count": 46,
   "id": "6f578a9b",
   "metadata": {},
   "outputs": [
    {
     "name": "stdout",
     "output_type": "stream",
     "text": [
      "나태주- 꽃\n",
      "구름에 달가듯이 가는 나그네\n",
      "길은 외줄기 남도삼백리\n"
     ]
    },
    {
     "data": {
      "text/plain": [
       "'나태주- 꽃'"
      ]
     },
     "execution_count": 46,
     "metadata": {},
     "output_type": "execute_result"
    }
   ],
   "source": [
    "title = \"나태주- \\\n",
    "꽃\"  \n",
    "#두줄로 작성하지만 한줄로 표시하는거\n",
    "poem = \"\"\"구름에 달가듯이 가는 나그네\n",
    "길은 외줄기 남도삼백리\"\"\"\n",
    "\n",
    "print(title)\n",
    "print(poem)\n"
   ]
  },
  {
   "cell_type": "code",
   "execution_count": 59,
   "id": "0dc542ba",
   "metadata": {},
   "outputs": [
    {
     "name": "stdout",
     "output_type": "stream",
     "text": [
      "남자입니다.\n"
     ]
    }
   ],
   "source": [
    "str = '210101-1234567'\n",
    "res = str.split('-')[1]\n",
    "sex = res[0]   #str[7]\n",
    "if(sex == '1'):\n",
    "    print('남자입니다.')\n",
    "else:.\n",
    "    print('여자입니다.')"
   ]
  },
  {
   "cell_type": "code",
   "execution_count": 56,
   "id": "66df2085",
   "metadata": {},
   "outputs": [
    {
     "name": "stdout",
     "output_type": "stream",
     "text": [
      "date: 20210101 / weather: Sunny\n"
     ]
    }
   ],
   "source": [
    "str = '20210101Sunny'\n",
    "date = str[:8]\n",
    "weather = str[8:]\n",
    "print(f'date: {date} / weather: {weather}')"
   ]
  },
  {
   "cell_type": "code",
   "execution_count": 10,
   "id": "d8de56c0",
   "metadata": {},
   "outputs": [
    {
     "name": "stdout",
     "output_type": "stream",
     "text": [
      "홍길동은 30살\n",
      "홍길동은 30살\n",
      "홍길동은 30살. 홍길동은 젊어요\n",
      "홍길동은 30살 1992년생\n"
     ]
    }
   ],
   "source": [
    "name = \"홍길동\"\n",
    "age = 30\n",
    "#홍길동은 30살\n",
    "print(name + '은 ' + str(age) + \"살\")\n",
    "print('%s은 %d살' %(name, age))\n",
    "print(\"{0}은 {1}살. {0}은 젊어요\".format(name, age))\n",
    "print(f'{name}은 {age}살 {2022-age}년생')"
   ]
  },
  {
   "cell_type": "code",
   "execution_count": 12,
   "id": "7475b1f8",
   "metadata": {},
   "outputs": [
    {
     "data": {
      "text/plain": [
       "'홍길동의 길이는 3'"
      ]
     },
     "execution_count": 12,
     "metadata": {},
     "output_type": "execute_result"
    }
   ],
   "source": [
    "f'{name}의 길이는 {len(name)}'"
   ]
  },
  {
   "cell_type": "code",
   "execution_count": 1,
   "id": "43c1e3d9",
   "metadata": {},
   "outputs": [
    {
     "data": {
      "text/plain": [
       "True"
      ]
     },
     "execution_count": 1,
     "metadata": {},
     "output_type": "execute_result"
    }
   ],
   "source": [
    "'홍길동'.isalnum()"
   ]
  },
  {
   "cell_type": "code",
   "execution_count": 5,
   "id": "c57195c1",
   "metadata": {},
   "outputs": [
    {
     "name": "stdout",
     "output_type": "stream",
     "text": [
      "홍길동__30__10000\n"
     ]
    }
   ],
   "source": [
    "name = '홍길동'\n",
    "age = 30\n",
    "a=10000\n",
    "print(name, age, a, sep=\"__\")"
   ]
  },
  {
   "cell_type": "code",
   "execution_count": 3,
   "id": "92844053",
   "metadata": {},
   "outputs": [
    {
     "name": "stdout",
     "output_type": "stream",
     "text": [
      "이름은? 홍길동\n"
     ]
    }
   ],
   "source": [
    "name = input('이름은? ')"
   ]
  },
  {
   "cell_type": "code",
   "execution_count": 4,
   "id": "1d4dead6",
   "metadata": {},
   "outputs": [],
   "source": [
    "a = 90\n",
    "b = 70"
   ]
  },
  {
   "cell_type": "code",
   "execution_count": 11,
   "id": "2ce02cbf",
   "metadata": {},
   "outputs": [
    {
     "name": "stdout",
     "output_type": "stream",
     "text": [
      "[40, 1, 33, 24, 34, 45]\n",
      "6\n"
     ]
    }
   ],
   "source": [
    "import random as rd\n",
    "\n",
    "lotto = [rd.randint(1,45),rd.randint(1,45),rd.randint(1,45),rd.randint(1,45),rd.randint(1,45),rd.randint(1,45)]\n",
    "print(lotto)\n",
    "print(len(lotto))"
   ]
  },
  {
   "cell_type": "code",
   "execution_count": 13,
   "id": "11a2ee8c",
   "metadata": {},
   "outputs": [
    {
     "data": {
      "text/plain": [
       "[70, 80, 90, 70, 80, 90]"
      ]
     },
     "execution_count": 13,
     "metadata": {},
     "output_type": "execute_result"
    }
   ],
   "source": [
    "a=[70,80,90]\n",
    "b=[80,90,100]\n",
    "c=2\n",
    "a*2"
   ]
  },
  {
   "cell_type": "code",
   "execution_count": 14,
   "id": "d4580166",
   "metadata": {},
   "outputs": [
    {
     "data": {
      "text/plain": [
       "[60, 80, 90]"
      ]
     },
     "execution_count": 14,
     "metadata": {},
     "output_type": "execute_result"
    }
   ],
   "source": [
    "a[0] = 60\n",
    "a"
   ]
  }
 ],
 "metadata": {
  "kernelspec": {
   "display_name": "Python 3 (ipykernel)",
   "language": "python",
   "name": "python3"
  },
  "language_info": {
   "codemirror_mode": {
    "name": "ipython",
    "version": 3
   },
   "file_extension": ".py",
   "mimetype": "text/x-python",
   "name": "python",
   "nbconvert_exporter": "python",
   "pygments_lexer": "ipython3",
   "version": "3.9.12"
  }
 },
 "nbformat": 4,
 "nbformat_minor": 5
}
