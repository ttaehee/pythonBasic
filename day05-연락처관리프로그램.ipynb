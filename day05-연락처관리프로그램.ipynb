{
 "cells": [
  {
   "cell_type": "markdown",
   "id": "ccf6c657",
   "metadata": {},
   "source": [
    "## 파이썬의 클래스변수와 인스턴스변수"
   ]
  },
  {
   "cell_type": "markdown",
   "id": "85e6e3e1",
   "metadata": {},
   "source": [
    "1. **클래스변수** : 모든 인스턴스에서 공유\n",
    "    - 변경하면 모든 인스턴스가 변경됨 <br/><br/>\n",
    "    \n",
    "2. **인스턴스변수** : 그 인스턴스만 사용하는 값\n",
    "    - 함수안에서 self의 속성 이용\n",
    "    - 변경하면 그 인스턴스의 속성만 변경됨"
   ]
  },
  {
   "cell_type": "markdown",
   "id": "66745204",
   "metadata": {},
   "source": [
    "# 연락처 관리 프로그램"
   ]
  },
  {
   "cell_type": "markdown",
   "id": "df8c47b0",
   "metadata": {},
   "source": [
    "프로그래밍 시 개발 요령\n",
    "- 기능단위로 분할\n",
    "    - 데이터관리(데이터정의, 데이터관리객체-CRUD)\n",
    "    - UI모듈\n",
    "    - IO모듈(네트워크포함)"
   ]
  },
  {
   "cell_type": "markdown",
   "id": "129f4f4a",
   "metadata": {},
   "source": [
    "### 데이터 정의"
   ]
  },
  {
   "cell_type": "markdown",
   "id": "a0b7f5bf",
   "metadata": {},
   "source": [
    "- 관리할 대상(연락처)\n",
    "    - 연락처 속성 :  \n",
    "        - 이름:문자열(필수사항)  \n",
    "        - 전화번호:문자열(필)  \n",
    "        - 이메일:문자열(선택사항)  \n",
    "        - 설명:문자열(선)  "
   ]
  },
  {
   "cell_type": "markdown",
   "id": "f7293d88",
   "metadata": {},
   "source": [
    "### Contact class"
   ]
  },
  {
   "cell_type": "code",
   "execution_count": 1,
   "id": "9ca08db7",
   "metadata": {},
   "outputs": [],
   "source": [
    "class Contact:\n",
    "    def __init__(self, name, phone, email=None, note=''):\n",
    "        self.name = name\n",
    "        self.phone = phone\n",
    "        self.email = email\n",
    "        self.note = note\n",
    "    def __str__(self):\n",
    "        return f\"{self.name}, {self.phone}, {self.email}, {self.note}\"\n",
    "\n",
    "    \n",
    "# c = Contact('홍', '010-1111-2222')\n",
    "# print(c)\n",
    "# c = Contact('홍', '010-1111-2222', 'hong@a.com', '친구')\n",
    "# print(c)"
   ]
  },
  {
   "cell_type": "markdown",
   "id": "01d34f6e",
   "metadata": {},
   "source": [
    "### 데이터 관리자 객체(Manager)"
   ]
  },
  {
   "cell_type": "code",
   "execution_count": 2,
   "id": "dee5cb99",
   "metadata": {},
   "outputs": [
    {
     "name": "stdout",
     "output_type": "stream",
     "text": [
      "2\n",
      "['010-1111-2222', '010-1111-2222']\n",
      "[]\n"
     ]
    },
    {
     "data": {
      "text/plain": [
       "False"
      ]
     },
     "execution_count": 2,
     "metadata": {},
     "output_type": "execute_result"
    }
   ],
   "source": [
    "class ContactManager:\n",
    "    def __init__(self):\n",
    "        self.contacts = []\n",
    "        \n",
    "    def add(self, c):\n",
    "        self.contacts.append(c)\n",
    "        \n",
    "    def count(self):\n",
    "        return len(self.contacts)\n",
    "    \n",
    "    def list(self, target='name'):\n",
    "        ans = []\n",
    "        for c in self.contacts:\n",
    "            if target == 'name':\n",
    "                ans.append(c.name)\n",
    "            elif target == 'phone':\n",
    "                ans.append(c.phone)   \n",
    "        return ans\n",
    "    \n",
    "    def search(self, keyword, target='name'):\n",
    "        ans = []\n",
    "        for c in self.contacts:\n",
    "            if target == 'name':\n",
    "                if keyword in c.name:\n",
    "                    ans.append(c)\n",
    "            elif target == 'phone':\n",
    "                if keyword in c.phone:\n",
    "                    ans.append(c)\n",
    "        return ans\n",
    "    \n",
    "    def delete(self, keyword, target='name'):\n",
    "        for c in self.contacts:\n",
    "            if target == 'name':\n",
    "                if keyword in c.name:\n",
    "                    self.contacts.remove(c)\n",
    "                    return True\n",
    "            elif target == 'phone':\n",
    "                if keyword in c.phone:\n",
    "                    self.contacts.remove(C)\n",
    "                    return True\n",
    "            \n",
    "        return False\n",
    "\n",
    "mgr = ContactManager()\n",
    "\n",
    "c = Contact('홍', '010-1111-2222')\n",
    "mgr.add(c) #등록\n",
    "c = Contact('김길동', '010-1111-2222', 'hong@a.com', '친구')\n",
    "mgr.add(c) #등록\n",
    "print(mgr.count())\n",
    "\n",
    "ans = mgr.list(target='phone') #목록\n",
    "print(ans)\n",
    "\n",
    "c = mgr.search('강') #검색\n",
    "print(c)\n",
    "\n",
    "mgr.delete('이', target=\"name\") #삭제"
   ]
  },
  {
   "cell_type": "code",
   "execution_count": 14,
   "id": "da16a663",
   "metadata": {},
   "outputs": [
    {
     "data": {
      "text/plain": [
       "4"
      ]
     },
     "execution_count": 14,
     "metadata": {},
     "output_type": "execute_result"
    }
   ],
   "source": [
    "'010-111-2222'.index('11')"
   ]
  },
  {
   "cell_type": "code",
   "execution_count": 15,
   "id": "ed0e3608",
   "metadata": {},
   "outputs": [
    {
     "data": {
      "text/plain": [
       "4"
      ]
     },
     "execution_count": 15,
     "metadata": {},
     "output_type": "execute_result"
    }
   ],
   "source": [
    "'010-111-2222'.find('11')"
   ]
  },
  {
   "cell_type": "code",
   "execution_count": 16,
   "id": "4c9a0ba0",
   "metadata": {},
   "outputs": [
    {
     "data": {
      "text/plain": [
       "True"
      ]
     },
     "execution_count": 16,
     "metadata": {},
     "output_type": "execute_result"
    }
   ],
   "source": [
    "'11' in '010-111-2222'"
   ]
  },
  {
   "cell_type": "markdown",
   "id": "57748e70",
   "metadata": {},
   "source": [
    "### 입출력 설계"
   ]
  },
  {
   "cell_type": "markdown",
   "id": "7bad8b2a",
   "metadata": {},
   "source": [
    "- 연락처 관리\n",
    "    - 등록갯수 : xx개\n",
    "    - (1)등록 (2)목록 (3)검색 (9)종료"
   ]
  },
  {
   "cell_type": "code",
   "execution_count": 3,
   "id": "ec5f24ce",
   "metadata": {},
   "outputs": [
    {
     "name": "stdout",
     "output_type": "stream",
     "text": [
      "* 연락처 관리 *\n",
      "등록갯수 : 0개\n",
      "(1)등록 (2)목록 (3)검색 (9)종료\n",
      "메뉴번호를 입력 : 1\n",
      "** 연락처 등록 **\n",
      "등록할 이름 입력 : 홍\n",
      "등록할 전화번호 입력 : 010\n",
      "등록할 이메일 입력 : g.com\n",
      "등록할 설명 입력 : 친구\n",
      "메뉴번호를 입력 : ㅇ\n",
      "메뉴번호를 입력 : 야\n",
      "메뉴번호를 입력 : 호\n",
      "메뉴번호를 입력 : 9\n",
      "*** 프로그램 종료 ***\n"
     ]
    }
   ],
   "source": [
    "class ContactUi:\n",
    "    \n",
    "    def __init__(self):\n",
    "        self.mgr = ContactManager()\n",
    "        \n",
    "    def start(self):\n",
    "        self.show_main_menu()\n",
    "        while True:\n",
    "            try:\n",
    "                ans = int(input(\"메뉴번호를 입력 : \"))\n",
    "            except:\n",
    "                continue\n",
    "                \n",
    "            if ans == 9: break\n",
    "            if ans == 1:\n",
    "                self.ui_regist()\n",
    "#             elif ans == 2:\n",
    "#                 ui_shpw_list()\n",
    "#             elif ans == 3:\n",
    "#                 ui_find_contact()\n",
    "\n",
    "        print(\"*** 프로그램 종료 ***\")\n",
    "    \n",
    "    def ui_regist(self):\n",
    "        print(\"** 연락처 등록 **\")\n",
    "        name = input(\"등록할 이름 입력 : \")\n",
    "        phone = input(\"등록할 전화번호 입력 : \")\n",
    "        email = input(\"등록할 이메일 입력 : \")\n",
    "        note = input(\"등록할 설명 입력 : \")\n",
    "        c = Contact(name, phone, email, note)\n",
    "        self.mgr.add(c)\n",
    "        \n",
    "        \n",
    "    def show_main_menu(self):\n",
    "        print(\"* 연락처 관리 *\")\n",
    "        print(f\"등록갯수 : {self.mgr.count()}개\")\n",
    "        print(\"(1)등록 (2)목록 (3)검색 (9)종료\")\n",
    "\n",
    "\n",
    "ui = ContactUi(\n",
    ")\n",
    "ui.start()"
   ]
  }
 ],
 "metadata": {
  "kernelspec": {
   "display_name": "Python 3 (ipykernel)",
   "language": "python",
   "name": "python3"
  },
  "language_info": {
   "codemirror_mode": {
    "name": "ipython",
    "version": 3
   },
   "file_extension": ".py",
   "mimetype": "text/x-python",
   "name": "python",
   "nbconvert_exporter": "python",
   "pygments_lexer": "ipython3",
   "version": "3.9.12"
  }
 },
 "nbformat": 4,
 "nbformat_minor": 5
}
