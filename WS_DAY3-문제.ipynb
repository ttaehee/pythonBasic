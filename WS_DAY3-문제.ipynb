{
 "cells": [
  {
   "cell_type": "markdown",
   "metadata": {},
   "source": [
    "### Q1. 넒이 계산기\n",
    "- 도형의 모양과 정보를 입력받아 넓이를 출력하는 함수를 작성하세요.\n",
    "- 매개변수 : width = 0, height = 0, radius = 0, pi = 3.14, shape = '' (모두 디폴트 매개변수로 설정)\n",
    "- shape가 'circle' 이면 원의 넓이, 'triangle' 이면 삼각형의 넓이, 'rectangle' 이면 사각형의 넓이를 출력하세요."
   ]
  },
  {
   "cell_type": "code",
   "execution_count": 45,
   "metadata": {
    "ExecuteTime": {
     "end_time": "2022-02-17T08:30:50.493788Z",
     "start_time": "2022-02-17T08:30:50.470424Z"
    }
   },
   "outputs": [],
   "source": [
    "def getArea(width = 0, height = 0, radius = 0, pi = 3.14, shape = '') :\n",
    "#     if shape == \"circle\":\n",
    "#         return radius*radius*pi\n",
    "#     elif shape == \"rectangle\":\n",
    "#         return width*height\n",
    "#     elif shape == \"triangle\":\n",
    "#         return width*height/2\n",
    "    \n",
    "    area = {'circle':radius*radius*pi, 'rectangle':width*height, 'triangle':width*height/2}\n",
    "    return area.get(shape)"
   ]
  },
  {
   "cell_type": "code",
   "execution_count": 3,
   "metadata": {
    "ExecuteTime": {
     "end_time": "2022-02-17T08:30:50.611060Z",
     "start_time": "2022-02-17T08:30:50.595058Z"
    }
   },
   "outputs": [
    {
     "name": "stdout",
     "output_type": "stream",
     "text": [
      "200\n",
      "100.0\n",
      "314.0\n",
      "314.1592\n"
     ]
    }
   ],
   "source": [
    "# width 10, height 20 인 직사각형의 넓이를 구하세요.\n",
    "getArea(10, 20, shape = 'rectangle')\n",
    "\n",
    "# width 10, height 20 인 삼각형의 넓이를 구하세요.\n",
    "getArea(10, 20, shape = 'triangle')\n",
    "\n",
    "# radius 10 인 원의 넓이를 구하세요.\n",
    "getArea(radius = 10, shape = 'circle')\n",
    "\n",
    "# radius 10, pi 3.141592 인 원의 넓이를 구하세요.\n",
    "getArea(radius = 10, pi = 3.141592, shape = 'circle')"
   ]
  },
  {
   "cell_type": "markdown",
   "metadata": {},
   "source": [
    "<br/>\n",
    "<br/>\n",
    "<br/>\n",
    "<br/>"
   ]
  },
  {
   "cell_type": "markdown",
   "metadata": {},
   "source": [
    "### Q2. 학점 계산기\n",
    "- 학점을 입력받아 평균 점수를 반환하는 함수를 작성하세요.\n",
    "- 매개변수 : grades (학점이 ','로 구분되어있는 문자열)\n",
    "    - ex) \"A+,B,D,B+,C\"\n",
    "- 다음 점수 변환 규칙에 따라 계산하여 평균 점수를 리턴\n",
    "    - 'A+' : 4.5, 'A' : 4.0, 'B+' : 3.5, 'B': 3.0, 'C' : 2.0, 'D' : 1.0"
   ]
  },
  {
   "cell_type": "code",
   "execution_count": 39,
   "metadata": {
    "ExecuteTime": {
     "end_time": "2022-02-17T08:35:18.674040Z",
     "start_time": "2022-02-17T08:35:18.650695Z"
    }
   },
   "outputs": [
    {
     "data": {
      "text/plain": [
       "2.8"
      ]
     },
     "execution_count": 39,
     "metadata": {},
     "output_type": "execute_result"
    }
   ],
   "source": [
    "def getMeanScore(grades) :\n",
    "    score_dict = {'A+':4.5, 'A':4.0, 'B+':3.5, 'B': 3.0, 'C':2.0, 'D':1.0}\n",
    "    spli = grades.split(',')\n",
    "    \n",
    "    tot = 0\n",
    "    for i in range(1,len(spli)+1):\n",
    "        tot += score_dict.get(spli[i-1])\n",
    "    return tot/len(spli)"
   ]
  },
  {
   "cell_type": "code",
   "execution_count": 5,
   "metadata": {
    "ExecuteTime": {
     "end_time": "2022-02-17T08:35:22.585550Z",
     "start_time": "2022-02-17T08:35:18.800880Z"
    }
   },
   "outputs": [
    {
     "name": "stdout",
     "output_type": "stream",
     "text": [
      "학점을 입력하세요.(ex. A+,B,D,B+,C) : A+,B,D,B+,C\n"
     ]
    },
    {
     "data": {
      "text/plain": [
       "2.8"
      ]
     },
     "execution_count": 5,
     "metadata": {},
     "output_type": "execute_result"
    }
   ],
   "source": [
    "# 코드를 실행하세요.\n",
    "grades = input('학점을 입력하세요.(ex. A+,B,D,B+,C) : ')\n",
    "getMeanScore(grades)"
   ]
  },
  {
   "cell_type": "code",
   "execution_count": null,
   "metadata": {},
   "outputs": [],
   "source": []
  }
 ],
 "metadata": {
  "kernelspec": {
   "display_name": "Python 3 (ipykernel)",
   "language": "python",
   "name": "python3"
  },
  "language_info": {
   "codemirror_mode": {
    "name": "ipython",
    "version": 3
   },
   "file_extension": ".py",
   "mimetype": "text/x-python",
   "name": "python",
   "nbconvert_exporter": "python",
   "pygments_lexer": "ipython3",
   "version": "3.9.12"
  },
  "toc": {
   "base_numbering": 1,
   "nav_menu": {},
   "number_sections": true,
   "sideBar": true,
   "skip_h1_title": false,
   "title_cell": "Table of Contents",
   "title_sidebar": "Contents",
   "toc_cell": false,
   "toc_position": {},
   "toc_section_display": true,
   "toc_window_display": false
  },
  "varInspector": {
   "cols": {
    "lenName": 16,
    "lenType": 16,
    "lenVar": 40
   },
   "kernels_config": {
    "python": {
     "delete_cmd_postfix": "",
     "delete_cmd_prefix": "del ",
     "library": "var_list.py",
     "varRefreshCmd": "print(var_dic_list())"
    },
    "r": {
     "delete_cmd_postfix": ") ",
     "delete_cmd_prefix": "rm(",
     "library": "var_list.r",
     "varRefreshCmd": "cat(var_dic_list()) "
    }
   },
   "types_to_exclude": [
    "module",
    "function",
    "builtin_function_or_method",
    "instance",
    "_Feature"
   ],
   "window_display": false
  }
 },
 "nbformat": 4,
 "nbformat_minor": 4
}
