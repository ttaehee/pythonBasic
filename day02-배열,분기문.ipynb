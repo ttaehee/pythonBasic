{
 "cells": [
  {
   "cell_type": "markdown",
   "id": "7f84ade5",
   "metadata": {},
   "source": [
    "# 2022-08-02 Day02(python)\n",
    "\n",
    "notepad : 메모장대용  \n",
    "대부분의 언어지원\n",
    "\n",
    "파이썬 : 배열 맨 끝에 ',' 들어가도 오류안남\n",
    "\n",
    "cmd창에 블럭 -> 실행 중지됨  \n",
    "=> enter 눌러서 선택풀기\n",
    "\n",
    "cmd 창에서 복사\n",
    "\n",
    "numpy에서는 세로로 추출하는 기능도 제공\n",
    "\n",
    "개발자 노트북 I7(최소머리 4개) 추천  \n",
    "I9는 발열심함  \n",
    "사무용은 I3,I5(듀얼)  "
   ]
  },
  {
   "cell_type": "markdown",
   "id": "0ee2d645",
   "metadata": {},
   "source": [
    "# list [ , , ]"
   ]
  },
  {
   "cell_type": "code",
   "execution_count": 5,
   "id": "34d9468d",
   "metadata": {},
   "outputs": [],
   "source": [
    "arr1 = [\n",
    "    [1,3,5],\n",
    "    [3,5,7],\n",
    "    [5,7,9],\n",
    "]"
   ]
  },
  {
   "cell_type": "code",
   "execution_count": 7,
   "id": "1cf1ddfb",
   "metadata": {},
   "outputs": [
    {
     "data": {
      "text/plain": [
       "([1, 3, 5], [3, 5, 7], [5, 7, 9])"
      ]
     },
     "execution_count": 7,
     "metadata": {},
     "output_type": "execute_result"
    }
   ],
   "source": [
    "arr1[0], arr1[1], arr1[2]"
   ]
  },
  {
   "cell_type": "code",
   "execution_count": 10,
   "id": "0ffca592",
   "metadata": {},
   "outputs": [
    {
     "data": {
      "text/plain": [
       "[[99, 3, 5], [3, 5, 7], [5, 7, 9]]"
      ]
     },
     "execution_count": 10,
     "metadata": {},
     "output_type": "execute_result"
    }
   ],
   "source": [
    "arr1[0][0] = 99\n",
    "arr1"
   ]
  },
  {
   "cell_type": "markdown",
   "id": "1fae0c72",
   "metadata": {},
   "source": [
    "- import random   \n",
    "    난수선택의 기본값  \n",
    "1. random.seed : 초기화  \n",
    "2. random.random(0,1) : 0이상 1미만  \n",
    "3. random.randint(0,1) : 0이상 1이하  "
   ]
  },
  {
   "cell_type": "code",
   "execution_count": 15,
   "id": "1c55a813",
   "metadata": {},
   "outputs": [
    {
     "data": {
      "text/plain": [
       "[26, 35, 24, 2, 10, 19]"
      ]
     },
     "execution_count": 15,
     "metadata": {},
     "output_type": "execute_result"
    }
   ],
   "source": [
    "#로또\n",
    "import random \n",
    "lotto = [] #빈 리스트\n",
    "lotto = [\n",
    "    random.randint(1,45),\n",
    "    random.randint(1,45),\n",
    "    random.randint(1,45),\n",
    "    random.randint(1,45),\n",
    "    random.randint(1,45),\n",
    "    random.randint(1,45),\n",
    "]\n",
    "lotto"
   ]
  },
  {
   "cell_type": "markdown",
   "id": "6e13b216",
   "metadata": {},
   "source": [
    "- 리스트추가  \n",
    "    - append(value) : 마지막에 value 요소 추가  \n",
    "    - insert(idx, value) : idx위치에 value 요소 추가  "
   ]
  },
  {
   "cell_type": "code",
   "execution_count": 22,
   "id": "22cffa57",
   "metadata": {},
   "outputs": [
    {
     "data": {
      "text/plain": [
       "[43, 39, 14, 18, 28, 12]"
      ]
     },
     "execution_count": 22,
     "metadata": {},
     "output_type": "execute_result"
    }
   ],
   "source": [
    "#로또2 난수 만들어서 append\n",
    "import random\n",
    "lotto2 = [] #빈리스트\n",
    "lotto2.append(random.randint(1,45))\n",
    "lotto2.append(random.randint(1,45))\n",
    "lotto2.append(random.randint(1,45))\n",
    "lotto2.append(random.randint(1,45))\n",
    "lotto2.append(random.randint(1,45))\n",
    "lotto2.append(random.randint(1,45))\n",
    "lotto2"
   ]
  },
  {
   "cell_type": "code",
   "execution_count": 23,
   "id": "2e8ae4db",
   "metadata": {},
   "outputs": [
    {
     "data": {
      "text/plain": [
       "[1, 2, 40, 3]"
      ]
     },
     "execution_count": 23,
     "metadata": {},
     "output_type": "execute_result"
    }
   ],
   "source": [
    "arr2 = [1,2,3]\n",
    "arr2.insert(2,40)\n",
    "arr2"
   ]
  },
  {
   "cell_type": "markdown",
   "id": "5253bc6e",
   "metadata": {},
   "source": [
    "- 정렬  \n",
    "    - sort() : 정렬  \n",
    "    - reverse() : 리스트요소 반대로 뒤집기  \n",
    "\n",
    "sort(reverse = True)   "
   ]
  },
  {
   "cell_type": "code",
   "execution_count": 26,
   "id": "eff22e69",
   "metadata": {},
   "outputs": [
    {
     "data": {
      "text/plain": [
       "[2, 10, 19, 24, 26, 31, 35, 37]"
      ]
     },
     "execution_count": 26,
     "metadata": {},
     "output_type": "execute_result"
    }
   ],
   "source": [
    "lotto.sort(reverse=True) #내부정렬\n",
    "lotto.reverse()\n",
    "lotto"
   ]
  },
  {
   "cell_type": "markdown",
   "id": "14daa00a",
   "metadata": {},
   "source": [
    "- 리스트수정\n",
    "\n",
    "1. 인덱싱으로 :리스트통째가 요소로 들어감"
   ]
  },
  {
   "cell_type": "code",
   "execution_count": 2,
   "id": "67979ad6",
   "metadata": {},
   "outputs": [
    {
     "data": {
      "text/plain": [
       "[1, ['c', 'd', 'e'], 3]"
      ]
     },
     "execution_count": 2,
     "metadata": {},
     "output_type": "execute_result"
    }
   ],
   "source": [
    "a = [1,2,3]\n",
    "a[1] = ['c','d','e']\n",
    "a"
   ]
  },
  {
   "cell_type": "markdown",
   "id": "6522e3d4",
   "metadata": {},
   "source": [
    "2. 슬라이싱으로  \n",
    "\n",
    "    a[1:2] 대상은 a[1]과 같지만 범위가 다름  \n",
    "    항목을 뽑아서 하나씩 요소로 들어가게됨  "
   ]
  },
  {
   "cell_type": "code",
   "execution_count": 4,
   "id": "90ffd198",
   "metadata": {},
   "outputs": [
    {
     "data": {
      "text/plain": [
       "[1, 'c', 'd', 'e', 3]"
      ]
     },
     "execution_count": 4,
     "metadata": {},
     "output_type": "execute_result"
    }
   ],
   "source": [
    "a = [1,2,3]\n",
    "a[1:2] = ['c','d','e']\n",
    "a"
   ]
  },
  {
   "cell_type": "markdown",
   "id": "85b5644d",
   "metadata": {},
   "source": [
    "- 리스트삭제\n",
    "1. pop() : 마지막요소 반환+삭제  \n",
    "pop(idx) : idx요소 반환+삭제\n",
    "\n",
    "2. remove(value) : value와 일치하는 첫번째요소 삭제(반환x)\n",
    "\n",
    "3. del a[1] : 변수명a[1]에 해당하는 값을 지움 (잘 안씀)"
   ]
  },
  {
   "cell_type": "code",
   "execution_count": 28,
   "id": "886977ea",
   "metadata": {},
   "outputs": [
    {
     "data": {
      "text/plain": [
       "[2, 19, 24, 26, 31, 35, 37]"
      ]
     },
     "execution_count": 28,
     "metadata": {},
     "output_type": "execute_result"
    }
   ],
   "source": [
    "lotto.remove(10)\n",
    "lotto"
   ]
  },
  {
   "cell_type": "markdown",
   "id": "fbb8dc05",
   "metadata": {},
   "source": [
    "- 역순  \n",
    "    - arr[::-1] : 복제한 애를 역순으로, reverse()가 있기때문에 잘 안씀  \n",
    "    - arr.reverse() : 원본을 건드림  "
   ]
  },
  {
   "cell_type": "code",
   "execution_count": 31,
   "id": "3e5d5f53",
   "metadata": {},
   "outputs": [
    {
     "data": {
      "text/plain": [
       "[1, 3, 5, 4, 2]"
      ]
     },
     "execution_count": 31,
     "metadata": {},
     "output_type": "execute_result"
    }
   ],
   "source": [
    "arr3 = [1,3,5,4,2]\n",
    "#arr3[::-1]\n",
    "arr3.reverse()\n",
    "arr3"
   ]
  },
  {
   "cell_type": "code",
   "execution_count": 34,
   "id": "b271f6f7",
   "metadata": {},
   "outputs": [
    {
     "data": {
      "text/plain": [
       "'Python is too interesting'"
      ]
     },
     "execution_count": 34,
     "metadata": {},
     "output_type": "execute_result"
    }
   ],
   "source": [
    "arr4 = ['Python','is','too','interesting']\n",
    "\" \".join(arr4)\n"
   ]
  },
  {
   "cell_type": "markdown",
   "id": "69eb2c78",
   "metadata": {},
   "source": [
    "- count(value) : value와 일치하는 개수 반환  "
   ]
  },
  {
   "cell_type": "markdown",
   "id": "556cc322",
   "metadata": {},
   "source": [
    "- extend \n",
    "    a.extend([4,5]) : 새로운애가 아닌 a에 [4,5] 더해줌  \n",
    "    * a+b는 a도 b도 아닌 새로운애가 됨  "
   ]
  },
  {
   "cell_type": "code",
   "execution_count": 10,
   "id": "b3567f95",
   "metadata": {},
   "outputs": [
    {
     "data": {
      "text/plain": [
       "[1, 2, 3, 4, 5]"
      ]
     },
     "execution_count": 10,
     "metadata": {},
     "output_type": "execute_result"
    }
   ],
   "source": [
    "a = [1,2,3]  \n",
    "a.extend([4,5])\n",
    "a"
   ]
  },
  {
   "cell_type": "markdown",
   "id": "01e64516",
   "metadata": {},
   "source": [
    "# tuple ( , , )"
   ]
  },
  {
   "cell_type": "markdown",
   "id": "af8769ab",
   "metadata": {},
   "source": [
    "- 데이터변경 불가능, 조회만 가능! = 값 전달용으로 사용  \n",
    "- 소괄호로 안묶어도 자동으로 묶임  \n",
    "    - print없이, 괄호없이 콤마로 데이터쓰면 값을 정의하는줄 알고 무조건 튜플로 인식  \n",
    "    print(1,2) -> 출력  \n",
    "    1,2 -> 튜플로 인식  \n",
    "\n",
    "- 리스트의 인덱싱, 슬라이싱방법과 동일  \n",
    "- 값 수정 불필요한 경우, 리스트보다 튜플 사용이 효율적 (메모리 사용 더 적음)  \n",
    "\n",
    "'tuple' object does not support item assignment   "
   ]
  },
  {
   "cell_type": "markdown",
   "id": "d25b70f7",
   "metadata": {},
   "source": [
    "- 시퀀스 타입간의 변환  \n",
    "    개발 시에는 사용 잘안함 "
   ]
  },
  {
   "cell_type": "code",
   "execution_count": 5,
   "id": "6254a349",
   "metadata": {},
   "outputs": [
    {
     "data": {
      "text/plain": [
       "['p', 'y', 't', 'h', 'o', 'n']"
      ]
     },
     "execution_count": 5,
     "metadata": {},
     "output_type": "execute_result"
    }
   ],
   "source": [
    "myStr = 'python'\n",
    "\n",
    "list(myStr) #문자열을 리스트로"
   ]
  },
  {
   "cell_type": "code",
   "execution_count": 6,
   "id": "4b7aed85",
   "metadata": {},
   "outputs": [
    {
     "data": {
      "text/plain": [
       "('p', 'y', 't', 'h', 'o', 'n')"
      ]
     },
     "execution_count": 6,
     "metadata": {},
     "output_type": "execute_result"
    }
   ],
   "source": [
    "tuple(myStr) #문자열을 튜플로"
   ]
  },
  {
   "cell_type": "markdown",
   "id": "46a29e09",
   "metadata": {},
   "source": [
    "# set { , , }"
   ]
  },
  {
   "cell_type": "markdown",
   "id": "a8fb8c5d",
   "metadata": {},
   "source": [
    "집합자료형  \n",
    "중복안됨, 순서없음"
   ]
  },
  {
   "cell_type": "markdown",
   "id": "35084d2d",
   "metadata": {},
   "source": [
    "- set 생성  \n",
    "1. a = {'a','b','c'}\n",
    "2. a= set('abc') "
   ]
  },
  {
   "cell_type": "markdown",
   "id": "f1cb85de",
   "metadata": {},
   "source": [
    "- set 추가    \n",
    "set.add(value)    \n",
    "\n",
    "    - 여러개 add  \n",
    "    set.update(container) "
   ]
  },
  {
   "cell_type": "code",
   "execution_count": 35,
   "id": "aec76f88",
   "metadata": {},
   "outputs": [
    {
     "data": {
      "text/plain": [
       "{'김', '박', '이', '최', '홍'}"
      ]
     },
     "execution_count": 35,
     "metadata": {},
     "output_type": "execute_result"
    }
   ],
   "source": [
    "참석자 = set()\n",
    "day1 = {'홍','김','이'}\n",
    "참석자.update(day1)\n",
    "day2 = {'박','홍','최'}\n",
    "참석자.update(day2)\n",
    "참석자"
   ]
  },
  {
   "cell_type": "code",
   "execution_count": 36,
   "id": "c5012b38",
   "metadata": {},
   "outputs": [
    {
     "data": {
      "text/plain": [
       "{'김', '박', '이', '홍'}"
      ]
     },
     "execution_count": 36,
     "metadata": {},
     "output_type": "execute_result"
    }
   ],
   "source": [
    "참석자.remove('최')\n",
    "참석자"
   ]
  },
  {
   "cell_type": "markdown",
   "id": "a3553fad",
   "metadata": {},
   "source": [
    "- set 연산  \n",
    "    차집합 -, difference   \n",
    "    합집합 |, union   \n",
    "    교집합 &, intersection  "
   ]
  },
  {
   "cell_type": "code",
   "execution_count": 37,
   "id": "b90a555a",
   "metadata": {},
   "outputs": [
    {
     "data": {
      "text/plain": [
       "{'박'}"
      ]
     },
     "execution_count": 37,
     "metadata": {},
     "output_type": "execute_result"
    }
   ],
   "source": [
    "참석자 - day1"
   ]
  },
  {
   "cell_type": "code",
   "execution_count": 40,
   "id": "a7baab53",
   "metadata": {},
   "outputs": [
    {
     "data": {
      "text/plain": [
       "{7, 10, 28, 34, 36, 37}"
      ]
     },
     "execution_count": 40,
     "metadata": {},
     "output_type": "execute_result"
    }
   ],
   "source": [
    "import random\n",
    "lotto3 = set() #빈 셋\n",
    "lotto3.add (random.randint(1,45))\n",
    "lotto3.add (random.randint(1,45))\n",
    "lotto3.add (random.randint(1,45))\n",
    "lotto3.add (random.randint(1,45))\n",
    "lotto3.add (random.randint(1,45))\n",
    "lotto3.add (random.randint(1,45))\n",
    "lotto3"
   ]
  },
  {
   "cell_type": "code",
   "execution_count": 48,
   "id": "062d9ff4",
   "metadata": {},
   "outputs": [
    {
     "data": {
      "text/plain": [
       "[7, 6, 5, 4, 3, 2, 1]"
      ]
     },
     "execution_count": 48,
     "metadata": {},
     "output_type": "execute_result"
    }
   ],
   "source": [
    "a = [1,1,2,2,3,4,4,5,6,7,2]\n",
    "a = list(set(a))\n",
    "a.sort(reverse=True)\n",
    "a"
   ]
  },
  {
   "cell_type": "markdown",
   "id": "13dc8cc8",
   "metadata": {},
   "source": [
    "- 데이터변환 (세트를 리스트, 튜플로)"
   ]
  },
  {
   "cell_type": "code",
   "execution_count": 8,
   "id": "4df7c9b5",
   "metadata": {},
   "outputs": [
    {
     "data": {
      "text/plain": [
       "[1, 2, 3]"
      ]
     },
     "execution_count": 8,
     "metadata": {},
     "output_type": "execute_result"
    }
   ],
   "source": [
    "s = set([1,2,3]) #list to set\n",
    "\n",
    "l = list(s) #set to list\n",
    "l"
   ]
  },
  {
   "cell_type": "code",
   "execution_count": 9,
   "id": "384c8cc6",
   "metadata": {},
   "outputs": [
    {
     "data": {
      "text/plain": [
       "(1, 2, 3)"
      ]
     },
     "execution_count": 9,
     "metadata": {},
     "output_type": "execute_result"
    }
   ],
   "source": [
    "t = tuple(s) #set to tuple\n",
    "t"
   ]
  },
  {
   "cell_type": "markdown",
   "id": "28bf83db",
   "metadata": {},
   "source": [
    "# dictionary { : , : }"
   ]
  },
  {
   "cell_type": "markdown",
   "id": "ff48f631",
   "metadata": {},
   "source": [
    "- 딕셔너리 생성  \n",
    "    key값은 고유한 값, 변경불가능한 객체(immutable object)  \n",
    "    ex) tuple, 정수  \n",
    "\n",
    "1. {key:value, key:value}  \n",
    "2. dict(key=value, key=value)  \n",
    "    dict()사용 시 key는 문자열만 가능  "
   ]
  },
  {
   "cell_type": "code",
   "execution_count": 52,
   "id": "15f5c7b3",
   "metadata": {},
   "outputs": [
    {
     "data": {
      "text/plain": [
       "{'홍': 70, '김': 90, '이': 80}"
      ]
     },
     "execution_count": 52,
     "metadata": {},
     "output_type": "execute_result"
    }
   ],
   "source": [
    "names = [\"홍\",\"김\",\"이\"]\n",
    "scores = [70,90,80]\n",
    "score_dict = {\"홍\" : 70, \"김\" : 90, \"이\" : 80}\n",
    "score_dict"
   ]
  },
  {
   "cell_type": "markdown",
   "id": "d90b1a64",
   "metadata": {},
   "source": [
    "- 딕셔너리 조회  \n",
    "1. a[key] : key값 존재하지 않으면 에러  \n",
    "2. a.get(key) : key값 존재하지 않으면 None  "
   ]
  },
  {
   "cell_type": "markdown",
   "id": "378cd774",
   "metadata": {},
   "source": [
    "- 딕셔너리 관련 함수  \n",
    "    keys() : key 정보들  \n",
    "    values() : value 정보들  \n",
    "    items() : key,value 정보들 쌍으로  "
   ]
  },
  {
   "cell_type": "code",
   "execution_count": 54,
   "id": "238f9b3a",
   "metadata": {},
   "outputs": [
    {
     "data": {
      "text/plain": [
       "['홍', '김', '이']"
      ]
     },
     "execution_count": 54,
     "metadata": {},
     "output_type": "execute_result"
    }
   ],
   "source": [
    "list(score_dict.keys())"
   ]
  },
  {
   "cell_type": "code",
   "execution_count": 55,
   "id": "c5bf4702",
   "metadata": {},
   "outputs": [
    {
     "data": {
      "text/plain": [
       "[70, 90, 80]"
      ]
     },
     "execution_count": 55,
     "metadata": {},
     "output_type": "execute_result"
    }
   ],
   "source": [
    "list(score_dict.values())"
   ]
  },
  {
   "cell_type": "code",
   "execution_count": 56,
   "id": "c456aad8",
   "metadata": {},
   "outputs": [
    {
     "data": {
      "text/plain": [
       "[('홍', 70), ('김', 90), ('이', 80)]"
      ]
     },
     "execution_count": 56,
     "metadata": {},
     "output_type": "execute_result"
    }
   ],
   "source": [
    "list(score_dict.items())"
   ]
  },
  {
   "cell_type": "code",
   "execution_count": 58,
   "id": "2ab20e3c",
   "metadata": {},
   "outputs": [
    {
     "data": {
      "text/plain": [
       "80.0"
      ]
     },
     "execution_count": 58,
     "metadata": {},
     "output_type": "execute_result"
    }
   ],
   "source": [
    "v = score_dict.values()\n",
    "sum(v), len(v)\n",
    "sum(v)/len(v) #평균"
   ]
  },
  {
   "cell_type": "markdown",
   "id": "aff60931",
   "metadata": {},
   "source": [
    "- 딕셔너리 삭제  \n",
    "1. del a[key]  \n",
    "2. a.pop(key)  \n",
    "3. a.clear()  \n",
    "    clear() 대신에 덮어쓰는 것 추천  \n",
    "     1. a = dict() : 새로운 사전객체를 만들어서 a에 덮어씀   \n",
    "&nbsp; = 빈객체 생성, 기존a의 데이터는 존재하지만 아무도 가리키지않는 쓰레기객체가 됨  \n",
    "     2. a.clear() : 기존 내부데이터 비움, 잘 안씀   \n",
    "=> why? 지울 때도 CPU 사용하는데 지우고 재할당하느니 덮어쓰기  "
   ]
  },
  {
   "cell_type": "code",
   "execution_count": 66,
   "id": "aad851d2",
   "metadata": {},
   "outputs": [
    {
     "name": "stdout",
     "output_type": "stream",
     "text": [
      "80\n",
      "{'a': 90, 'C': 70}\n"
     ]
    }
   ],
   "source": [
    "A = {'a':90, 'B':80, 'C':70}\n",
    "print(A.get('B'))\n",
    "A.pop('B')\n",
    "print(A)\n"
   ]
  },
  {
   "cell_type": "markdown",
   "id": "cb7cb0a8",
   "metadata": {},
   "source": [
    "- in, not in => return bool  \n",
    "    - 'A' in d : d딕셔너리 안에 'A'라는 key가 있니  \n",
    "    - 'A' not in d : d딕셔너리 안에 'A'라는 key가 없니  \n",
    "\n",
    "a.keys  \n",
    "출력 : ([key1, key2, key3])  \n",
    "list(a.keys)  \n",
    "출력 : [key1, key2, key3]  "
   ]
  },
  {
   "cell_type": "markdown",
   "id": "19a3a7bc",
   "metadata": {},
   "source": [
    "# if문"
   ]
  },
  {
   "cell_type": "markdown",
   "id": "51cf974a",
   "metadata": {},
   "source": [
    "statement 앞에 꼭 들여쓰기 (tab 아니더라도 블럭안에 같은크기의 공백이여야함)\n",
    "```\n",
    "if condition:  \n",
    "    statement  \n",
    "else:  \n",
    "    statement \n",
    "```"
   ]
  },
  {
   "cell_type": "markdown",
   "id": "e23067b6",
   "metadata": {},
   "source": [
    "- 3항연산자  \n",
    "    `a=참일때값 if condition else 거짓일때값`"
   ]
  },
  {
   "cell_type": "markdown",
   "id": "608d7c30",
   "metadata": {},
   "source": [
    "- 내장함수와 변수  \n",
    "    sum()내장함수가 있기때문에 변수로 sum 사용하면 곤란해짐\n",
    "   "
   ]
  },
  {
   "cell_type": "markdown",
   "id": "fac9f34e",
   "metadata": {},
   "source": [
    "# if 연습문제"
   ]
  },
  {
   "cell_type": "code",
   "execution_count": 68,
   "id": "5a30f6b0",
   "metadata": {},
   "outputs": [
    {
     "name": "stdout",
     "output_type": "stream",
     "text": [
      "성별입력(MALE, FEMALE)MALE\n",
      "남성\n",
      "남성\n"
     ]
    }
   ],
   "source": [
    "ans = input(\"성별입력(MALE, FEMALE)\")\n",
    "if ans == \"MALE\":\n",
    "    print(\"남성\")\n",
    "    print(\"남성\")\n",
    "    \n",
    "else:\n",
    "    print(\"남성\")\n",
    "    print(\"여성\")"
   ]
  },
  {
   "cell_type": "code",
   "execution_count": 70,
   "id": "c3efaf7d",
   "metadata": {},
   "outputs": [
    {
     "name": "stdout",
     "output_type": "stream",
     "text": [
      "나이입력28\n"
     ]
    },
    {
     "data": {
      "text/plain": [
       "1995"
      ]
     },
     "execution_count": 70,
     "metadata": {},
     "output_type": "execute_result"
    }
   ],
   "source": [
    "ans = int(input(\"나이입력\"))\n",
    "2022-int(ans)+1"
   ]
  },
  {
   "cell_type": "code",
   "execution_count": 71,
   "id": "64a2a017",
   "metadata": {},
   "outputs": [
    {
     "name": "stdout",
     "output_type": "stream",
     "text": [
      "키를 입력하세요:160\n",
      "몸무게를 입력하세요:80\n",
      "비만 수치는 20입니다.\n",
      "당신은 비만입니다.\n"
     ]
    }
   ],
   "source": [
    "height = int(input(\"키를 입력하세요:\"))\n",
    "weight = int(input(\"몸무게를 입력하세요:\"))\n",
    "\n",
    "fat = weight + 100 - height\n",
    "print(f\"비만 수치는 {fat}입니다.\")\n",
    "\n",
    "if fat>0:\n",
    "    print(\"당신은 비만입니다.\")\n"
   ]
  },
  {
   "cell_type": "code",
   "execution_count": 4,
   "id": "f114a29e",
   "metadata": {},
   "outputs": [],
   "source": [
    "#1~100 난수생성\n",
    "import random\n",
    "com = random.randint(1,100)\n",
    "count = 0"
   ]
  },
  {
   "cell_type": "code",
   "execution_count": 11,
   "id": "62627a36",
   "metadata": {},
   "outputs": [
    {
     "name": "stdout",
     "output_type": "stream",
     "text": [
      "13번째 시도\n",
      "정답입니다!!\n"
     ]
    }
   ],
   "source": [
    "user = 87\n",
    "count+=1 \n",
    "print(f\"{count}번째 시도\")\n",
    "\n",
    "if com == user: \n",
    "    print(\"정답입니다!!\") \n",
    "else: \n",
    "    if com < user: \n",
    "        print(\"낮춰주세요\") \n",
    "    else: \n",
    "        print(\"높여주세요\") \n",
    "    if count>10: \n",
    "        print(\"당신은 바보입니까?\")"
   ]
  },
  {
   "cell_type": "code",
   "execution_count": 6,
   "id": "64d14e02",
   "metadata": {},
   "outputs": [
    {
     "name": "stdout",
     "output_type": "stream",
     "text": [
      "성적을 입력하세요 : 90\n"
     ]
    },
    {
     "data": {
      "text/plain": [
       "'A'"
      ]
     },
     "execution_count": 6,
     "metadata": {},
     "output_type": "execute_result"
    }
   ],
   "source": [
    "score = int(input(\"성적을 입력하세요 : \"))\n",
    "\n",
    "grade = \"A\" if score>=90 else (\"B\" if score >= 80 else (\"C\" if score>=70 else \"D\"))\n",
    "grade"
   ]
  },
  {
   "cell_type": "markdown",
   "id": "7a1d7d7b",
   "metadata": {},
   "source": [
    "# while 연습문제"
   ]
  },
  {
   "cell_type": "code",
   "execution_count": 2,
   "id": "45fcc6f4",
   "metadata": {},
   "outputs": [
    {
     "name": "stdout",
     "output_type": "stream",
     "text": [
      "숫자를 입력하세요 : 50\n",
      "1번째 시도\n",
      "높여주세요\n",
      "숫자를 입력하세요 : 60\n",
      "2번째 시도\n",
      "높여주세요\n",
      "숫자를 입력하세요 : 70\n",
      "3번째 시도\n",
      "높여주세요\n",
      "숫자를 입력하세요 : 80\n",
      "4번째 시도\n",
      "높여주세요\n",
      "숫자를 입력하세요 : 90\n",
      "5번째 시도\n",
      "낮춰주세요\n",
      "숫자를 입력하세요 : 85\n",
      "6번째 시도\n",
      "높여주세요\n",
      "숫자를 입력하세요 : 87\n",
      "7번째 시도\n",
      "정답입니다!!\n"
     ]
    }
   ],
   "source": [
    "import random\n",
    "com = random.randint(1,100)\n",
    "count = 0\n",
    "user =''\n",
    "\n",
    "while com != user:\n",
    "    user = int(input(\"숫자를 입력하세요 : \"))\n",
    "    \n",
    "    count+=1 \n",
    "    print(f\"{count}번째 시도\")\n",
    "\n",
    "    if com == user: \n",
    "        print(\"정답입니다!!\") \n",
    "    else: \n",
    "        if com < user: \n",
    "            print(\"낮춰주세요\") \n",
    "        else: \n",
    "            print(\"높여주세요\") \n",
    "        if count>10: \n",
    "            print(\"당신은 바보입니까?\")"
   ]
  },
  {
   "cell_type": "code",
   "execution_count": 5,
   "id": "a66f649d",
   "metadata": {},
   "outputs": [
    {
     "name": "stdout",
     "output_type": "stream",
     "text": [
      "80.0\n"
     ]
    }
   ],
   "source": [
    "scores = [70,80,90]\n",
    "#총합계산\n",
    "total = 0\n",
    "for s in scores:\n",
    "    total += s\n",
    "print(total/len(scores))"
   ]
  },
  {
   "cell_type": "markdown",
   "id": "6057cebb",
   "metadata": {},
   "source": [
    "# for 반복문"
   ]
  },
  {
   "cell_type": "markdown",
   "id": "852367db",
   "metadata": {},
   "source": [
    "```\n",
    "for 변수 in iterable(list, tuple, str)  \n",
    "    statement  \n",
    "```\n",
    "\n",
    "break : 현재 속한 반복문 종료  \n",
    "continue : 현재 반복내부의 나머지 코드 건너뛰기  \n",
    "pass : 껍데기만, 무한반복문 작성 시 사용  "
   ]
  },
  {
   "cell_type": "markdown",
   "id": "4ec36106",
   "metadata": {},
   "source": [
    "# for 연습문제"
   ]
  },
  {
   "cell_type": "code",
   "execution_count": 42,
   "id": "10ef26f9",
   "metadata": {},
   "outputs": [
    {
     "name": "stdout",
     "output_type": "stream",
     "text": [
      "숫자를 입력하세요 : 12\n",
      "1번째 시도\n",
      "낮춰주세요\n",
      "숫자를 입력하세요 : 13\n",
      "2번째 시도\n",
      "낮춰주세요\n",
      "숫자를 입력하세요 : 3\n",
      "3번째 시도\n",
      "높여주세요\n",
      "숫자를 입력하세요 : 4\n",
      "4번째 시도\n",
      "높여주세요\n",
      "숫자를 입력하세요 : 5\n",
      "5번째 시도\n",
      "높여주세요\n",
      "숫자를 입력하세요 : 6\n",
      "6번째 시도\n",
      "높여주세요\n",
      "숫자를 입력하세요 : 7\n",
      "7번째 시도\n",
      "높여주세요\n",
      "숫자를 입력하세요 : 8\n",
      "8번째 시도\n",
      "높여주세요\n",
      "숫자를 입력하세요 : 9\n",
      "9번째 시도\n",
      "높여주세요\n",
      "숫자를 입력하세요 : 10\n",
      "10번째 시도\n",
      "높여주세요\n",
      "당신은 바보입니까?\n"
     ]
    }
   ],
   "source": [
    "import random\n",
    "com = random.randint(1,100)\n",
    "count = 0\n",
    "correct = False\n",
    "user =''\n",
    "\n",
    "for count in range(0,10):\n",
    "    user = int(input(\"숫자를 입력하세요 : \"))\n",
    "    \n",
    "    count+=1 \n",
    "    print(f\"{count}번째 시도\")\n",
    "\n",
    "    if com == user: \n",
    "        correct = True\n",
    "        print(\"정답입니다!!\") \n",
    "        break\n",
    "    else: \n",
    "        if com < user: \n",
    "            print(\"낮춰주세요\") \n",
    "        else: \n",
    "            print(\"높여주세요\") \n",
    "            \n",
    "if correct == False and count==10: \n",
    "    print(\"당신은 바보입니까?\")"
   ]
  },
  {
   "cell_type": "code",
   "execution_count": 22,
   "id": "e89a263d",
   "metadata": {},
   "outputs": [
    {
     "data": {
      "text/plain": [
       "5050"
      ]
     },
     "execution_count": 22,
     "metadata": {},
     "output_type": "execute_result"
    }
   ],
   "source": [
    "tot =  0\n",
    "for i in range(1,101):\n",
    "    tot += i\n",
    "\n",
    "tot"
   ]
  },
  {
   "cell_type": "code",
   "execution_count": 32,
   "id": "cdd7fb76",
   "metadata": {},
   "outputs": [
    {
     "name": "stdout",
     "output_type": "stream",
     "text": [
      "2*1=2\n",
      "2*2=4\n",
      "2*3=6\n",
      "2*4=8\n",
      "2*5=10\n",
      "2*6=12\n",
      "2*7=14\n",
      "2*8=16\n",
      "2*9=18\n",
      "3*1=3\n",
      "3*2=6\n",
      "3*3=9\n",
      "3*4=12\n",
      "3*5=15\n",
      "3*6=18\n",
      "3*7=21\n",
      "3*8=24\n",
      "3*9=27\n",
      "4*1=4\n",
      "4*2=8\n",
      "4*3=12\n",
      "4*4=16\n",
      "4*5=20\n",
      "4*6=24\n",
      "4*7=28\n",
      "4*8=32\n",
      "4*9=36\n",
      "5*1=5\n",
      "5*2=10\n",
      "5*3=15\n",
      "5*4=20\n",
      "5*5=25\n",
      "5*6=30\n",
      "5*7=35\n",
      "5*8=40\n",
      "5*9=45\n",
      "6*1=6\n",
      "6*2=12\n",
      "6*3=18\n",
      "6*4=24\n",
      "6*5=30\n",
      "6*6=36\n",
      "6*7=42\n",
      "6*8=48\n",
      "6*9=54\n",
      "7*1=7\n",
      "7*2=14\n",
      "7*3=21\n",
      "7*4=28\n",
      "7*5=35\n",
      "7*6=42\n",
      "7*7=49\n",
      "7*8=56\n",
      "7*9=63\n",
      "8*1=8\n",
      "8*2=16\n",
      "8*3=24\n",
      "8*4=32\n",
      "8*5=40\n",
      "8*6=48\n",
      "8*7=56\n",
      "8*8=64\n",
      "8*9=72\n",
      "9*1=9\n",
      "9*2=18\n",
      "9*3=27\n",
      "9*4=36\n",
      "9*5=45\n",
      "9*6=54\n",
      "9*7=63\n",
      "9*8=72\n",
      "9*9=81\n"
     ]
    }
   ],
   "source": [
    "#dan = 3\n",
    "for dan in range(2,10):\n",
    "    for i in range(1,10):\n",
    "        print(f\"{dan}*{i}={dan*i}\")"
   ]
  },
  {
   "cell_type": "code",
   "execution_count": 28,
   "id": "19d5c07c",
   "metadata": {},
   "outputs": [
    {
     "name": "stdout",
     "output_type": "stream",
     "text": [
      "1 2 3 4 5 6 7 8 9 10 "
     ]
    }
   ],
   "source": [
    "test2D = [[1,2,3], [4,5,6], [7,8,9,10]]\n",
    "\n",
    "for i in range(len(test2D)):\n",
    "    for k in range(len(test2D[i])):\n",
    "        print(test2D[i][k], end = ' ')"
   ]
  },
  {
   "cell_type": "code",
   "execution_count": 35,
   "id": "1c27c9dd",
   "metadata": {},
   "outputs": [
    {
     "name": "stdout",
     "output_type": "stream",
     "text": [
      "1 2 3 4 5 6 7 8 9 10 "
     ]
    }
   ],
   "source": [
    "for i in test2D:\n",
    "    for j in i:\n",
    "        print(j, end = ' ')"
   ]
  },
  {
   "cell_type": "code",
   "execution_count": null,
   "id": "5c9dec93",
   "metadata": {},
   "outputs": [],
   "source": [
    "cnt = 0\n",
    "for i in range(10):\n",
    "    ?\n",
    "print(cnt) #20일 때 ?에 들어갈 명령문"
   ]
  },
  {
   "cell_type": "code",
   "execution_count": 36,
   "id": "48d7b3c3",
   "metadata": {},
   "outputs": [],
   "source": [
    "for i in range(10):\n",
    "    pass"
   ]
  },
  {
   "cell_type": "markdown",
   "id": "15bc2515",
   "metadata": {},
   "source": [
    "# comprehensions (많이 사용함)"
   ]
  },
  {
   "cell_type": "markdown",
   "id": "55554c43",
   "metadata": {},
   "source": [
    "- for문을 사용해서 새로운 list를 만듬  \n",
    "    개발 시 자주 사용  \n",
    "    \n",
    "`l = [x**2 for x in range(10)]`  \n",
    "range(10)의 값은 x 로 받아서 x의 제곱으로 리스트를 만듬  "
   ]
  },
  {
   "cell_type": "code",
   "execution_count": 39,
   "id": "c65f6065",
   "metadata": {},
   "outputs": [
    {
     "name": "stdout",
     "output_type": "stream",
     "text": [
      "[True, False, False]\n",
      "[7.0, 8.0, 9.0]\n"
     ]
    },
    {
     "data": {
      "text/plain": [
       "'70-80-90'"
      ]
     },
     "execution_count": 39,
     "metadata": {},
     "output_type": "execute_result"
    }
   ],
   "source": [
    "scores = [70,80,90]\n",
    "print( [True if s<80 else False for s in scores])\n",
    "print( [s/10 for s in scores])\n",
    "scores = [str(s) for s in scores]\n",
    "\"-\".join(scores)"
   ]
  },
  {
   "cell_type": "markdown",
   "id": "abe15e15",
   "metadata": {},
   "source": [
    "# 함수 "
   ]
  },
  {
   "cell_type": "markdown",
   "id": "773d198a",
   "metadata": {},
   "source": [
    "- 모듈만들기에 필수적\n",
    "\n",
    "def 함수명(arg):  \n",
    "&nbsp;&nbsp; statement  \n",
    "&nbsp;&nbsp; return  "
   ]
  },
  {
   "cell_type": "code",
   "execution_count": 53,
   "id": "33aec0e7",
   "metadata": {},
   "outputs": [
    {
     "name": "stdout",
     "output_type": "stream",
     "text": [
      "보\n",
      "보\n"
     ]
    }
   ],
   "source": [
    "# 컴 1,2,3 난수로 생성 -> 가위, 바위, 보 출력\n",
    "# if문 사용하지 않고\n",
    "import random\n",
    "com = random.randint(1,3)\n",
    "\n",
    "#dict\n",
    "di = {1:'가위', 2:'바위', 3:'보'}\n",
    "print(di.get(com))\n",
    "\n",
    "#list\n",
    "li = [\"\",\"가위\",\"바위\",\"보\"]\n",
    "print(li[com])"
   ]
  },
  {
   "cell_type": "markdown",
   "id": "cffe8a41",
   "metadata": {},
   "source": [
    "- print(함수명) : 함수가 실행되는 위치값(주소)  \n",
    "- print(함수명()) : 함수가 실행되는 주소에서 실행해라 = return 값  "
   ]
  },
  {
   "cell_type": "code",
   "execution_count": 63,
   "id": "eaa0abc7",
   "metadata": {},
   "outputs": [
    {
     "name": "stdout",
     "output_type": "stream",
     "text": [
      "Hello\n",
      "<function my_hello at 0x000002C0043928B0>\n"
     ]
    },
    {
     "data": {
      "text/plain": [
       "'Hello'"
      ]
     },
     "execution_count": 63,
     "metadata": {},
     "output_type": "execute_result"
    }
   ],
   "source": [
    "def my_hello():\n",
    "    return (\"Hello\")\n",
    "\n",
    "ans = my_hello()\n",
    "print(ans)\n",
    "print(my_hello)\n",
    "\n",
    "aa = my_hello # 함수의 위치값을 가지고 있는 변수가 하나 더 생김\n",
    "aa()\n",
    "\n",
    "# my_hello(\"홍길동\")"
   ]
  },
  {
   "cell_type": "markdown",
   "id": "8817acc9",
   "metadata": {},
   "source": [
    "- Object : 할당받은 메모리영역  \n",
    "    함수도 넣고 변수도 넣고  "
   ]
  }
 ],
 "metadata": {
  "kernelspec": {
   "display_name": "Python 3 (ipykernel)",
   "language": "python",
   "name": "python3"
  },
  "language_info": {
   "codemirror_mode": {
    "name": "ipython",
    "version": 3
   },
   "file_extension": ".py",
   "mimetype": "text/x-python",
   "name": "python",
   "nbconvert_exporter": "python",
   "pygments_lexer": "ipython3",
   "version": "3.9.12"
  }
 },
 "nbformat": 4,
 "nbformat_minor": 5
}
