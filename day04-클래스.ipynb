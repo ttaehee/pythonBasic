{
 "cells": [
  {
   "cell_type": "markdown",
   "id": "d4d71912",
   "metadata": {},
   "source": [
    "# 2022-08-04 Day04(python)"
   ]
  },
  {
   "cell_type": "markdown",
   "id": "2ba9f207",
   "metadata": {},
   "source": [
    "# 데이터관리"
   ]
  },
  {
   "cell_type": "markdown",
   "id": "da756ce8",
   "metadata": {},
   "source": [
    "- **데이터** : 정보(단일, 복합- 개인정보, 상품정보)\n",
    "- **관리** : 등록, 검색(목록, 상세), 수정, 삭제"
   ]
  },
  {
   "cell_type": "markdown",
   "id": "82e22321",
   "metadata": {},
   "source": [
    "- int, float, str -> 단일정보  \n",
    "- ist, set, dict -> 복합정보\n",
    "    - list : 순서지원  \n",
    "    - set : 중복제거  \n",
    "    - dict : key-value  "
   ]
  },
  {
   "cell_type": "markdown",
   "id": "5ecaa3a1",
   "metadata": {},
   "source": [
    "- 상품정보 (이름:값)  \n",
    "    이름 : '냉장고', 크기 : 200리터, 공장도가격 : 1000000, 소매가격 : 15000000, ...\n",
    "\n",
    "    상품정보 전용 데이터 타입만들기 => 클래스!"
   ]
  },
  {
   "cell_type": "markdown",
   "id": "d13358ae",
   "metadata": {},
   "source": [
    "# Class"
   ]
  },
  {
   "cell_type": "markdown",
   "id": "f15f9ee4",
   "metadata": {},
   "source": [
    "저장할 데이터가 있다 -> 변수 필요 -> 클래스  \n",
    "없다 -> 함수만 만들어도 됨"
   ]
  },
  {
   "cell_type": "code",
   "execution_count": 16,
   "id": "021fb152",
   "metadata": {},
   "outputs": [
    {
     "name": "stdout",
     "output_type": "stream",
     "text": [
      "냉장고 LG 200 1000000\n",
      "세탁기 삼성 10 500000\n"
     ]
    }
   ],
   "source": [
    "# 상품정보 전용 데이터 타입\n",
    "class Product:\n",
    "    \n",
    "    count = 0  # 클래스변수\n",
    "    \n",
    "    def __init__(self, type, 제조사, 크기, 가격):\n",
    "        self.type=type\n",
    "        self.제조사=제조사\n",
    "        self.크기=크기\n",
    "        self.가격=가격\n",
    "        Product.count += 1\n",
    "        \n",
    "    def __del__(self):\n",
    "        print(\"destructor : Object removed!\")\n",
    "        \n",
    "    def print_info(self):\n",
    "        print(self.type, self.제조사, self.크기, self.가격)\n",
    "\n",
    "p1=Product(type=\"냉장고\", 제조사=\"LG\", 크기=200, 가격=1000000)\n",
    "p1.print_info()  #내용확인\n",
    "p2=Product(type=\"세탁기\", 제조사=\"삼성\", 크기=10, 가격=500000)\n",
    "p2.print_info()  #내용확인"
   ]
  },
  {
   "cell_type": "markdown",
   "id": "be8bf68c",
   "metadata": {},
   "source": [
    "  "
   ]
  },
  {
   "cell_type": "markdown",
   "id": "b602582b",
   "metadata": {},
   "source": [
    "- **클래스 변수** : `클래스명.클래스변수` 로 접근 (Product.count)"
   ]
  },
  {
   "cell_type": "markdown",
   "id": "ff0e5d6e",
   "metadata": {},
   "source": [
    "- **constructor(생성자)** : 클래스와 같은 이름의 함수, 초기화를 위한  \n",
    "    `__init__(self)`\n",
    "\n",
    "    객체를 생성할 때마다 생성자를 호출함  \n",
    "    => 생성자에 count 증가 넣음"
   ]
  },
  {
   "cell_type": "code",
   "execution_count": 14,
   "id": "9049f03d",
   "metadata": {},
   "outputs": [
    {
     "data": {
      "text/plain": [
       "(2, 2, 2)"
      ]
     },
     "execution_count": 14,
     "metadata": {},
     "output_type": "execute_result"
    }
   ],
   "source": [
    "p1.count, p2.count, Product.count"
   ]
  },
  {
   "cell_type": "markdown",
   "id": "715711f4",
   "metadata": {},
   "source": [
    "- **destructor(소멸자)** : 클래스에 대한 참조가 0이되면 호출  \n",
    "    자원을 반납하는 용도"
   ]
  },
  {
   "cell_type": "code",
   "execution_count": 17,
   "id": "299668ca",
   "metadata": {},
   "outputs": [
    {
     "name": "stdout",
     "output_type": "stream",
     "text": [
      "destructor : Object removed!\n"
     ]
    }
   ],
   "source": [
    "del p1"
   ]
  },
  {
   "cell_type": "code",
   "execution_count": 18,
   "id": "f236a532",
   "metadata": {},
   "outputs": [],
   "source": [
    "p3 = p2\n",
    "del p2"
   ]
  },
  {
   "cell_type": "markdown",
   "id": "1faa62ab",
   "metadata": {},
   "source": [
    "- 위 : p2를 지우더라도 p3가 참조하고 있어 소멸자호출 안됨 <br/><br/>\n",
    "\n",
    "- 아래 : p3까지 지우니 참조카운트 0이되어 소멸자호출"
   ]
  },
  {
   "cell_type": "code",
   "execution_count": 19,
   "id": "7db2c69e",
   "metadata": {},
   "outputs": [
    {
     "name": "stdout",
     "output_type": "stream",
     "text": [
      "destructor : Object removed!\n"
     ]
    }
   ],
   "source": [
    "del p3"
   ]
  },
  {
   "cell_type": "markdown",
   "id": "f909a141",
   "metadata": {},
   "source": [
    "### 상속"
   ]
  },
  {
   "cell_type": "markdown",
   "id": "3d3abd10",
   "metadata": {},
   "source": [
    "- 자식클래스 정의 시 : 클래스명 뒤에 소괄호로 부모클래스 명시"
   ]
  },
  {
   "cell_type": "code",
   "execution_count": 31,
   "id": "d06a57cd",
   "metadata": {},
   "outputs": [
    {
     "name": "stdout",
     "output_type": "stream",
     "text": [
      "홍길동\n",
      "길길동\n",
      "컴퓨터공학 1011\n"
     ]
    }
   ],
   "source": [
    "class Person:\n",
    "    def __init__(self, name):\n",
    "        self.name = name\n",
    "    def print_info(self):\n",
    "        print(self.name)\n",
    "    def __str__(self):\n",
    "        return self.name\n",
    "    def __repr__(self):\n",
    "        return f'Person(\"{self.name}\")'\n",
    "        \n",
    "        \n",
    "class Student(Person):\n",
    "    def __init__(self, name, team, id):\n",
    "        super().__init__(name)\n",
    "        self.team = team\n",
    "        self.id = id\n",
    "    def print_info(self):  # 재정의 (override)\n",
    "        super().print_info()\n",
    "        print(self.team, self.id)\n",
    "    def __str__(self):\n",
    "        return f\"{super().__str__()}, {self.team}, {self.id}\"\n",
    "\n",
    "    \n",
    "    \n",
    "p1 = Person('홍길동')\n",
    "p1.print_info()\n",
    "s1 = Student('길길동', '컴퓨터공학', 1011)\n",
    "s1.print_info()\n",
    "# e1 = Employee('김대리', '개발1팀', 95011)\n",
    "# t1 = Teacher('박교수', '컴공', 2011)"
   ]
  },
  {
   "cell_type": "markdown",
   "id": "a743fbf7",
   "metadata": {},
   "source": [
    "  "
   ]
  },
  {
   "cell_type": "markdown",
   "id": "59f05cb4",
   "metadata": {},
   "source": [
    "- `super()` : 부모클래스 <br/><br/>\n",
    "\n",
    "- `overriding` : 부모클래스에서 물려받은 함수를 재정의"
   ]
  },
  {
   "cell_type": "markdown",
   "id": "5f132316",
   "metadata": {},
   "source": [
    "- `__str__` : 객체의상태를 문자열로 표현\n",
    "- `__repr__` : 객체의상태를 문자열로 바꿨다가 실행해서 다시 객체로 돌려서 문자열로 반환 (객체의 복원을 위한 문자열) <br/><br/>\n",
    "\n",
    "    [str, repr의 차이점](https://wikidocs.net/89)  참고"
   ]
  },
  {
   "cell_type": "code",
   "execution_count": 32,
   "id": "26f8caad",
   "metadata": {},
   "outputs": [
    {
     "name": "stdout",
     "output_type": "stream",
     "text": [
      "홍길동\n",
      "길길동, 컴퓨터공학, 1011\n"
     ]
    }
   ],
   "source": [
    "print(p1)\n",
    "print(s1)"
   ]
  },
  {
   "cell_type": "markdown",
   "id": "0c9fbc94",
   "metadata": {},
   "source": [
    "  "
   ]
  },
  {
   "cell_type": "markdown",
   "id": "36454052",
   "metadata": {},
   "source": [
    "# 모듈"
   ]
  },
  {
   "cell_type": "markdown",
   "id": "7407dde2",
   "metadata": {},
   "source": [
    "코드 + 코드 = **함수**  \n",
    "함수 + 변수 = **클래스**  \n",
    "함수 + 변수 + 클래스 = **모듈**  \n",
    "모듈 + 모듈 = **패키지** (모듈을 저장해 놓은 폴더)  "
   ]
  },
  {
   "cell_type": "markdown",
   "id": "16fd9ef0",
   "metadata": {},
   "source": [
    "- **namespace** : 접두어를 붙여서 관리 (-안에 있는 -변수)\n",
    "    - math.pi : math라는 공간에 있는 pi라는 변수"
   ]
  },
  {
   "cell_type": "markdown",
   "id": "01fe6aac",
   "metadata": {},
   "source": [
    "- **import** : 모듈은 불러들이겠다 = 해당 파일이 메모리에 로딩됨 \n",
    "    - import math\n",
    "    - import math as m\n",
    "- **dir()** : 모듈의 구조 확인 가능 (함수, 변수)\n",
    "    - dir(math)"
   ]
  },
  {
   "cell_type": "code",
   "execution_count": 34,
   "id": "adf42aa8",
   "metadata": {},
   "outputs": [
    {
     "data": {
      "text/plain": [
       "3"
      ]
     },
     "execution_count": 34,
     "metadata": {},
     "output_type": "execute_result"
    }
   ],
   "source": [
    "import random\n",
    "random.randint(1,3)\n",
    "import random as rd\n",
    "rd.randint(1,3)"
   ]
  },
  {
   "cell_type": "markdown",
   "id": "60feaeca",
   "metadata": {},
   "source": [
    "- **from ~ import ~** : random이라는 모듈에서 randint 라는 함수만 쓰겠다  \n",
    "    -> 모듈이름을 안붙여도 됨\n",
    "    - from random import randint\n",
    "    - from random import randint as ri"
   ]
  },
  {
   "cell_type": "code",
   "execution_count": 35,
   "id": "c8f68c13",
   "metadata": {},
   "outputs": [
    {
     "data": {
      "text/plain": [
       "3"
      ]
     },
     "execution_count": 35,
     "metadata": {},
     "output_type": "execute_result"
    }
   ],
   "source": [
    "from random import randint\n",
    "randint(1,3)"
   ]
  },
  {
   "cell_type": "markdown",
   "id": "f7b038f6",
   "metadata": {},
   "source": [
    "### 모듈 생성"
   ]
  },
  {
   "cell_type": "code",
   "execution_count": 36,
   "id": "68da8a46",
   "metadata": {},
   "outputs": [
    {
     "name": "stdout",
     "output_type": "stream",
     "text": [
      "Writing my_calc.py\n"
     ]
    }
   ],
   "source": [
    "%%writefile my_calc.py\n",
    "myname = \"홍길동\"\n",
    "\n",
    "def plus(a, b):\n",
    "    return a+b\n",
    "def minus(a, b):\n",
    "    return a-b"
   ]
  },
  {
   "cell_type": "markdown",
   "id": "a3b9da14",
   "metadata": {},
   "source": [
    "### 생성 모듈 사용"
   ]
  },
  {
   "cell_type": "code",
   "execution_count": 37,
   "id": "2f492304",
   "metadata": {},
   "outputs": [
    {
     "name": "stdout",
     "output_type": "stream",
     "text": [
      "7\n",
      "-1\n",
      "홍길동\n"
     ]
    }
   ],
   "source": [
    "import my_calc\n",
    "print(my_calc.plus(3,4))\n",
    "print(my_calc.minus(3,4))\n",
    "print(my_calc.myname)"
   ]
  },
  {
   "cell_type": "markdown",
   "id": "86760638",
   "metadata": {},
   "source": [
    "### 특수 변수들"
   ]
  },
  {
   "cell_type": "markdown",
   "id": "3c59cc9d",
   "metadata": {},
   "source": [
    "- `__name__` : 모듈명 출력 \n",
    "    - 모듈일 경우 api 제공 (다른 곳에서 import 해서 쓸 때)\n",
    "    - 직접 실행할 때는 (main 에서 함수를 테스트할 때) print"
   ]
  },
  {
   "cell_type": "code",
   "execution_count": 45,
   "id": "f350ae49",
   "metadata": {},
   "outputs": [
    {
     "name": "stdout",
     "output_type": "stream",
     "text": [
      "Overwriting hello.py\n"
     ]
    }
   ],
   "source": [
    "%%writefile hello.py\n",
    "print(\"__name__ = \", __name__)\n",
    "\n",
    "def say_hello():\n",
    "    print(\"Hello\")\n",
    "    \n",
    "# 모듈로 사용되는 경우에는 테스트코드 실행 안되게\n",
    "if __name__ == '__main__':\n",
    "    say_hello()  # 테스트코드"
   ]
  },
  {
   "cell_type": "markdown",
   "id": "e7fbc9cb",
   "metadata": {},
   "source": [
    "이 파일이 모듈로 사용된 경우 : `__name__` 는 모듈명이 저장  \n",
    "이 파일이 독립실행되는 경우 : `__name__`는 `__main__` 로 저장된다  "
   ]
  },
  {
   "cell_type": "code",
   "execution_count": 46,
   "id": "485fa513",
   "metadata": {},
   "outputs": [
    {
     "name": "stdout",
     "output_type": "stream",
     "text": [
      "Hello\n"
     ]
    }
   ],
   "source": [
    "import hello\n",
    "hello.say_hello()"
   ]
  },
  {
   "cell_type": "markdown",
   "id": "14ff0cb6",
   "metadata": {},
   "source": [
    "### python cheat sheet"
   ]
  },
  {
   "cell_type": "markdown",
   "id": "a7afc62a",
   "metadata": {},
   "source": [
    "python cheat sheet 검색해보기"
   ]
  },
  {
   "cell_type": "markdown",
   "id": "ae03a6ef",
   "metadata": {},
   "source": [
    "  "
   ]
  },
  {
   "cell_type": "markdown",
   "id": "3def7321",
   "metadata": {},
   "source": [
    "### day02의 숫자맞추기 게임을 모듈로 만들기"
   ]
  },
  {
   "cell_type": "code",
   "execution_count": 50,
   "id": "666e352e",
   "metadata": {},
   "outputs": [
    {
     "name": "stdout",
     "output_type": "stream",
     "text": [
      "Overwriting find_number.py\n"
     ]
    }
   ],
   "source": [
    "%%writefile find_number.py\n",
    "#숫자맞추기 게임 - while 문\n",
    "\n",
    "#컴  1~100 난수 생성\n",
    "\n",
    "#시도한 횟수가 10회넘으면\n",
    "\n",
    "#메시지: 당신은 바보입니까?\n",
    "def start_game():\n",
    "    import random\n",
    "    com = random.randint(1,100)\n",
    "    try_count = 0 # 시도횟수\n",
    "\n",
    "    correct = False #답 맞춤여부\n",
    "\n",
    "    #반복조건. 숫자가 다른경우\n",
    "    user = 0\n",
    "    while user != com:\n",
    "        try_count += 1 # try_count = try_count + 1\n",
    "        user = input(\"1~100사이 숫자 입력 \")\n",
    "        user = int(user)\n",
    "        print( f\"{try_count}번째 시도\")\n",
    "        if com == user:\n",
    "            correct = True #정답\n",
    "            print(\"추카추카 정답입니다!!\")\n",
    "        elif com < user:\n",
    "            print(\"낮춰주세요\")\n",
    "        else:\n",
    "            print(\"높여주세요\")\n",
    "        if correct == False and try_count > 10:\n",
    "            print(\"당신은 바보입니까?\")"
   ]
  },
  {
   "cell_type": "code",
   "execution_count": 49,
   "id": "c106ce6e",
   "metadata": {},
   "outputs": [
    {
     "name": "stdout",
     "output_type": "stream",
     "text": [
      "1~100사이 숫자 입력 50\n",
      "1번째 시도\n",
      "높여주세요\n",
      "1~100사이 숫자 입력 60\n",
      "2번째 시도\n",
      "낮춰주세요\n",
      "1~100사이 숫자 입력 55\n",
      "3번째 시도\n",
      "낮춰주세요\n",
      "1~100사이 숫자 입력 54\n",
      "4번째 시도\n",
      "낮춰주세요\n",
      "1~100사이 숫자 입력 43\n",
      "5번째 시도\n",
      "높여주세요\n",
      "1~100사이 숫자 입력 53\n",
      "6번째 시도\n",
      "낮춰주세요\n",
      "1~100사이 숫자 입력 52\n",
      "7번째 시도\n",
      "낮춰주세요\n",
      "1~100사이 숫자 입력 51\n",
      "8번째 시도\n",
      "추카추카 정답입니다!!\n"
     ]
    }
   ],
   "source": [
    "import find_number\n",
    "find_number.start_game()"
   ]
  },
  {
   "cell_type": "markdown",
   "id": "c4d4fedb",
   "metadata": {},
   "source": [
    "### day03의 지뢰찾기 게임을 모듈로 만들기"
   ]
  },
  {
   "cell_type": "code",
   "execution_count": 1,
   "id": "e1110167",
   "metadata": {},
   "outputs": [
    {
     "name": "stdout",
     "output_type": "stream",
     "text": [
      "Overwriting minesweeper.py\n"
     ]
    }
   ],
   "source": [
    "%%writefile minesweeper.py\n",
    "\n",
    "def start_game():\n",
    "    #필드(2차원 리스트 10*10)\n",
    "    fields = list() # 저장타입? 2차원 리스트\n",
    "    for i in range(10):\n",
    "        fields.append([0]*10)\n",
    "    fields\n",
    "\n",
    "    # 10개의 지뢰를 임의의 위치에 저장\n",
    "    import random\n",
    "    nums = list(range(100))\n",
    "    for i in random.sample(nums, 10):\n",
    "        row = i // 10  #행 몫\n",
    "        col = i % 10  #열 나머지\n",
    "        fields[row][col] = 9  # 지뢰위치\n",
    "\n",
    "    # 지뢰주변 8방위치 1증가\n",
    "    if row < (len(fields)-1):\n",
    "        fields[row+1][col] += 1 #남\n",
    "    if row < (len(fields)-1) and col < (len(fields)-1):\n",
    "        fields[row+1][col+1] += 1 #남동\n",
    "    if col < (len(fields)-1):\n",
    "        fields[row][col+1] += 1 #동\n",
    "    if row > 0 and col < (len(fields)-1):\n",
    "        fields[row-1][col+1] += 1 #북동\n",
    "    if row > 0 :\n",
    "        fields[row-1][col] += 1 #북\n",
    "    if row > 0 and col > 0:\n",
    "        fields[row-1][col-1] += 1 #북서\n",
    "    if col > 0:\n",
    "        fields[row][col-1] += 1 #서\n",
    "    if row < (len(fields)-1) and col > 0:\n",
    "        fields[row+1][col-1] += 1 #남서\n",
    "\n",
    "    # 1. 오픈한 자리의 숫자를 보기위한 2차원리스트 만들기\n",
    "    fields2 = []\n",
    "    for i in range(10):\n",
    "        fields2.append([\"-\"]*10)\n",
    "    fields2\n",
    "    findMineCounter = 0  # 찾은 지뢰갯수\n",
    "\n",
    "    while findMineCounter != 10:\n",
    "\n",
    "        # 2. 오픈할 좌표 입력받기\n",
    "        row = int(input(\"행좌표 입력(0-9) : \"))\n",
    "        col = int(input(\"열좌표 입력(0-9) : \"))\n",
    "\n",
    "        # 3. fields의 오픈할 좌표값을 출력용 2차원배열에 복사\n",
    "        fields2[row][col] = fields[row][col]\n",
    "\n",
    "        # 4. 출력용 2차원배열 출력\n",
    "        display(fields2)\n",
    "\n",
    "        # 5. 만약 지뢰좌표이면 남은 지뢰수 표시\n",
    "        if fields[row][col] >= 9:\n",
    "            findMineCounter += 1\n",
    "            print(\"** 지뢰를 찾았습니다 **\")\n",
    "            print(f\"{10-findMineCounter}개 남았습니다.\")\n",
    "        # 6. 만약 모든지뢰 오픈하면 게임종료, 아니면 2번부터 다시"
   ]
  },
  {
   "cell_type": "code",
   "execution_count": null,
   "id": "a74f3275",
   "metadata": {},
   "outputs": [
    {
     "name": "stdout",
     "output_type": "stream",
     "text": [
      "행좌표 입력(0-9) : 3\n",
      "열좌표 입력(0-9) : 3\n"
     ]
    },
    {
     "data": {
      "text/plain": [
       "[['-', '-', '-', '-', '-', '-', '-', '-', '-', '-'],\n",
       " ['-', '-', '-', '-', '-', '-', '-', '-', '-', '-'],\n",
       " ['-', '-', '-', '-', '-', '-', '-', '-', '-', '-'],\n",
       " ['-', '-', '-', 1, '-', '-', '-', '-', '-', '-'],\n",
       " ['-', '-', '-', '-', '-', '-', '-', '-', '-', '-'],\n",
       " ['-', '-', '-', '-', '-', '-', '-', '-', '-', '-'],\n",
       " ['-', '-', '-', '-', '-', '-', '-', '-', '-', '-'],\n",
       " ['-', '-', '-', '-', '-', '-', '-', '-', '-', '-'],\n",
       " ['-', '-', '-', '-', '-', '-', '-', '-', '-', '-'],\n",
       " ['-', '-', '-', '-', '-', '-', '-', '-', '-', '-']]"
      ]
     },
     "metadata": {},
     "output_type": "display_data"
    }
   ],
   "source": [
    "import minesweeper\n",
    "minesweeper.start_game()"
   ]
  },
  {
   "cell_type": "markdown",
   "id": "fa1c645c",
   "metadata": {},
   "source": [
    "  "
   ]
  },
  {
   "cell_type": "markdown",
   "id": "a1637b31",
   "metadata": {},
   "source": [
    "# 예외처리"
   ]
  },
  {
   "cell_type": "markdown",
   "id": "63e5e3d7",
   "metadata": {},
   "source": [
    "함수 실행결과 정상실행 / 오류실행  \n",
    "\n",
    "exception : 예외메시지, 예외 발생했을 때 결과값, 시점 등을 다 묶어놓음"
   ]
  },
  {
   "cell_type": "markdown",
   "id": "a0dd4374",
   "metadata": {},
   "source": [
    "- 예외 발생여부만 알 수 있음\n",
    "    - `execpt:`\n",
    "    - `except 예외:`\n",
    "    - `execpt (예외1, 예외2):`\n",
    "- 예외 발생여부와 예외메시지까지 확인 가능\n",
    "    - `except 예외 as e:`\n",
    "        - e 라는 변수에 예외메시지를 담아서 리턴"
   ]
  },
  {
   "cell_type": "code",
   "execution_count": 6,
   "id": "5c17c6aa",
   "metadata": {},
   "outputs": [
    {
     "name": "stdout",
     "output_type": "stream",
     "text": [
      "예외 메시지 [Errno 2] No such file or directory: 'my_poem.txt'\n",
      "close file\n"
     ]
    }
   ],
   "source": [
    "f = None\n",
    "\n",
    "try:\n",
    "    f = open(\"my_poem.txt\", \"r\")\n",
    "except FileNotFoundError as e:\n",
    "    print(\"예외 메시지 {}\".format(e))\n",
    "else: # 예외 발생하지 않았을 경우에 수행할 코드\n",
    "    print(f.readLines())\n",
    "finally:\n",
    "    if f != None:\n",
    "        f.close()\n",
    "    print(\"close file\")"
   ]
  },
  {
   "cell_type": "code",
   "execution_count": 10,
   "id": "9a4dbdf9",
   "metadata": {},
   "outputs": [
    {
     "name": "stdout",
     "output_type": "stream",
     "text": [
      "Overwriting my_poem2.txt\n"
     ]
    }
   ],
   "source": [
    "%%writefile my_poem2.txt\n",
    "나그네\n",
    "바람에"
   ]
  },
  {
   "cell_type": "code",
   "execution_count": 11,
   "id": "49aaa1d4",
   "metadata": {},
   "outputs": [
    {
     "name": "stdout",
     "output_type": "stream",
     "text": [
      "encoding 파라미터를 지정하세요\n"
     ]
    }
   ],
   "source": [
    "f = None\n",
    "\n",
    "try:\n",
    "    f = open(\"my_poem2.txt\", \"r\")\n",
    "    lines = f.readlines()\n",
    "    print(\"lines : \", lines)\n",
    "    f.close()\n",
    "except FileNotFoundError:\n",
    "    print(\"파일이 없습니다.\")\n",
    "except UnicodeDecodeError:\n",
    "    print(\"encoding 파라미터를 지정하세요\")\n",
    "else:\n",
    "    print(\"실행완료\")"
   ]
  },
  {
   "cell_type": "markdown",
   "id": "183fdfdb",
   "metadata": {},
   "source": [
    "  "
   ]
  },
  {
   "cell_type": "markdown",
   "id": "6d2d44c6",
   "metadata": {},
   "source": [
    "# 파일"
   ]
  },
  {
   "cell_type": "markdown",
   "id": "b4a33afb",
   "metadata": {},
   "source": [
    "- `r` : 읽기모드(default)\n",
    "    - rt : read text  \n",
    "    - rb : read binary  \n",
    "    \n",
    "- `w` : 쓰기모드\n",
    "    - wt : write text  \n",
    "    - wb : write binary  "
   ]
  },
  {
   "cell_type": "markdown",
   "id": "bd6286bc",
   "metadata": {},
   "source": [
    "- `a` : 추가모드\n",
    "- `+` : 업데이트"
   ]
  },
  {
   "cell_type": "markdown",
   "id": "bf3c0828",
   "metadata": {},
   "source": [
    " - `close()` : 열린파일을 닫음\n",
    " - `read(n)` : 파일에서 최대 n자 읽음 (n이 음수 or 없으면 끝까지 읽음)\n",
    " - `readline(n=-1)` : 파일에서 한줄 읽고 리턴, n 지정된 경우 최대 n바이트 읽음"
   ]
  },
  {
   "cell_type": "code",
   "execution_count": 18,
   "id": "f69fea9d",
   "metadata": {},
   "outputs": [
    {
     "name": "stdout",
     "output_type": "stream",
     "text": [
      "['나그네\\n', '바람에\\n']\n",
      "나그네\n",
      "\n",
      "바람에\n",
      "\n"
     ]
    }
   ],
   "source": [
    "f = open('my_poem2.txt', 'r', encoding='utf-8')\n",
    "lines = f.readlines()\n",
    "f.close()\n",
    "print(lines)\n",
    "\n",
    "for s in lines:\n",
    "    print(s)"
   ]
  },
  {
   "cell_type": "markdown",
   "id": "dc5060a4",
   "metadata": {},
   "source": [
    "- 줄마다 끝에 있는 `\\n` 제거하기\n",
    "    1. `\\n`자체를 없애기 : strip()\n",
    "    2. print 시에 줄바꿈 없애기\n",
    "\n",
    "    => 1번 추천! <br/>\n",
    "    `\\n`이 공간차지  \n",
    "    순수하게 글자만 가지고 처리하는게 좋음"
   ]
  },
  {
   "cell_type": "code",
   "execution_count": 19,
   "id": "94ddd038",
   "metadata": {},
   "outputs": [
    {
     "name": "stdout",
     "output_type": "stream",
     "text": [
      "나그네\n",
      "바람에\n"
     ]
    }
   ],
   "source": [
    "f = open('my_poem2.txt', 'r', encoding='utf-8')\n",
    "lines = f.readlines()\n",
    "f.close()\n",
    "lines = [ s.strip() for s in lines ]\n",
    "\n",
    "for s in lines:\n",
    "    print(s)"
   ]
  },
  {
   "cell_type": "markdown",
   "id": "d83e3649",
   "metadata": {},
   "source": [
    "### with문 (엄청 많이 쓰임)"
   ]
  },
  {
   "cell_type": "markdown",
   "id": "d38f7e95",
   "metadata": {},
   "source": [
    "파일의 close 처리를 자동으로 해줌\n",
    "\n",
    "f = open() + 자동 f.close()"
   ]
  },
  {
   "cell_type": "code",
   "execution_count": 20,
   "id": "66d0e78d",
   "metadata": {},
   "outputs": [
    {
     "name": "stdout",
     "output_type": "stream",
     "text": [
      "['나그네\\n', '바람에\\n']\n"
     ]
    }
   ],
   "source": [
    "with open('my_poem2.txt', 'rt', encoding='utf-8') as f:\n",
    "    print(f.readlines())"
   ]
  }
 ],
 "metadata": {
  "kernelspec": {
   "display_name": "Python 3 (ipykernel)",
   "language": "python",
   "name": "python3"
  },
  "language_info": {
   "codemirror_mode": {
    "name": "ipython",
    "version": 3
   },
   "file_extension": ".py",
   "mimetype": "text/x-python",
   "name": "python",
   "nbconvert_exporter": "python",
   "pygments_lexer": "ipython3",
   "version": "3.9.12"
  }
 },
 "nbformat": 4,
 "nbformat_minor": 5
}
